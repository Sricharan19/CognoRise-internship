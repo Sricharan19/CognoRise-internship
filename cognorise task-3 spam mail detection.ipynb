{
 "cells": [
  {
   "cell_type": "code",
   "execution_count": 1,
   "id": "17473d3c",
   "metadata": {},
   "outputs": [
    {
     "name": "stdout",
     "output_type": "stream",
     "text": [
      "Collecting wordcloud\n",
      "  Obtaining dependency information for wordcloud from https://files.pythonhosted.org/packages/ac/66/937d1d73389c0b501c928c4d8513653063d2b40272dff70d0e283d8b9144/wordcloud-1.9.3-cp311-cp311-macosx_11_0_arm64.whl.metadata\n",
      "  Downloading wordcloud-1.9.3-cp311-cp311-macosx_11_0_arm64.whl.metadata (3.4 kB)\n",
      "Requirement already satisfied: numpy>=1.6.1 in ./anaconda3/lib/python3.11/site-packages (from wordcloud) (1.24.3)\n",
      "Requirement already satisfied: pillow in ./anaconda3/lib/python3.11/site-packages (from wordcloud) (9.4.0)\n",
      "Requirement already satisfied: matplotlib in ./anaconda3/lib/python3.11/site-packages (from wordcloud) (3.7.2)\n",
      "Requirement already satisfied: contourpy>=1.0.1 in ./anaconda3/lib/python3.11/site-packages (from matplotlib->wordcloud) (1.0.5)\n",
      "Requirement already satisfied: cycler>=0.10 in ./anaconda3/lib/python3.11/site-packages (from matplotlib->wordcloud) (0.11.0)\n",
      "Requirement already satisfied: fonttools>=4.22.0 in ./anaconda3/lib/python3.11/site-packages (from matplotlib->wordcloud) (4.25.0)\n",
      "Requirement already satisfied: kiwisolver>=1.0.1 in ./anaconda3/lib/python3.11/site-packages (from matplotlib->wordcloud) (1.4.4)\n",
      "Requirement already satisfied: packaging>=20.0 in ./anaconda3/lib/python3.11/site-packages (from matplotlib->wordcloud) (23.1)\n",
      "Requirement already satisfied: pyparsing<3.1,>=2.3.1 in ./anaconda3/lib/python3.11/site-packages (from matplotlib->wordcloud) (3.0.9)\n",
      "Requirement already satisfied: python-dateutil>=2.7 in ./anaconda3/lib/python3.11/site-packages (from matplotlib->wordcloud) (2.8.2)\n",
      "Requirement already satisfied: six>=1.5 in ./anaconda3/lib/python3.11/site-packages (from python-dateutil>=2.7->matplotlib->wordcloud) (1.16.0)\n",
      "Downloading wordcloud-1.9.3-cp311-cp311-macosx_11_0_arm64.whl (168 kB)\n",
      "\u001b[2K   \u001b[90m━━━━━━━━━━━━━━━━━━━━━━━━━━━━━━━━━━━━━━━━\u001b[0m \u001b[32m168.3/168.3 kB\u001b[0m \u001b[31m7.4 MB/s\u001b[0m eta \u001b[36m0:00:00\u001b[0m\n",
      "\u001b[?25hInstalling collected packages: wordcloud\n",
      "Successfully installed wordcloud-1.9.3\n",
      "Note: you may need to restart the kernel to use updated packages.\n"
     ]
    }
   ],
   "source": [
    "pip install wordcloud"
   ]
  },
  {
   "cell_type": "code",
   "execution_count": 1,
   "id": "a08b7c16",
   "metadata": {},
   "outputs": [],
   "source": [
    "%matplotlib inline\n",
    "import matplotlib.pyplot as plt\n",
    "import csv\n",
    "import sklearn\n",
    "import pickle\n",
    "from wordcloud import WordCloud\n",
    "import pandas as pd\n",
    "import numpy as np\n",
    "import nltk\n",
    "import os\n",
    "from nltk.corpus import stopwords\n",
    "import random\n",
    "from sklearn.model_selection import train_test_split\n",
    "from sklearn.feature_extraction.text import CountVectorizer, TfidfTransformer\n",
    "from sklearn.tree import DecisionTreeClassifier \n",
    "from sklearn.model_selection import GridSearchCV,train_test_split,StratifiedKFold,cross_val_score,learning_curve"
   ]
  },
  {
   "cell_type": "code",
   "execution_count": 3,
   "id": "db981bd6",
   "metadata": {},
   "outputs": [],
   "source": [
    "import torch\n",
    "import torch.nn as nn\n",
    "from torch.utils.data import DataLoader\n",
    "from sklearn.metrics import mean_squared_error\n",
    "\n",
    "from transformers import AutoModel, AutoTokenizer\n",
    "import json\n",
    "from tensorflow.keras.models import load_model\n",
    "import re\n",
    "import pandas as pd\n",
    "import string\n",
    "import keras\n"
   ]
  },
  {
   "cell_type": "code",
   "execution_count": 5,
   "id": "4a44e08e",
   "metadata": {},
   "outputs": [],
   "source": [
    "data = pd.read_csv('spam.csv')"
   ]
  },
  {
   "cell_type": "code",
   "execution_count": 6,
   "id": "079eb63e",
   "metadata": {},
   "outputs": [
    {
     "data": {
      "text/html": [
       "<div>\n",
       "<style scoped>\n",
       "    .dataframe tbody tr th:only-of-type {\n",
       "        vertical-align: middle;\n",
       "    }\n",
       "\n",
       "    .dataframe tbody tr th {\n",
       "        vertical-align: top;\n",
       "    }\n",
       "\n",
       "    .dataframe thead th {\n",
       "        text-align: right;\n",
       "    }\n",
       "</style>\n",
       "<table border=\"1\" class=\"dataframe\">\n",
       "  <thead>\n",
       "    <tr style=\"text-align: right;\">\n",
       "      <th></th>\n",
       "      <th>Category</th>\n",
       "      <th>Message</th>\n",
       "    </tr>\n",
       "  </thead>\n",
       "  <tbody>\n",
       "    <tr>\n",
       "      <th>0</th>\n",
       "      <td>ham</td>\n",
       "      <td>Go until jurong point, crazy.. Available only ...</td>\n",
       "    </tr>\n",
       "    <tr>\n",
       "      <th>1</th>\n",
       "      <td>ham</td>\n",
       "      <td>Ok lar... Joking wif u oni...</td>\n",
       "    </tr>\n",
       "    <tr>\n",
       "      <th>2</th>\n",
       "      <td>spam</td>\n",
       "      <td>Free entry in 2 a wkly comp to win FA Cup fina...</td>\n",
       "    </tr>\n",
       "    <tr>\n",
       "      <th>3</th>\n",
       "      <td>ham</td>\n",
       "      <td>U dun say so early hor... U c already then say...</td>\n",
       "    </tr>\n",
       "    <tr>\n",
       "      <th>4</th>\n",
       "      <td>ham</td>\n",
       "      <td>Nah I don't think he goes to usf, he lives aro...</td>\n",
       "    </tr>\n",
       "    <tr>\n",
       "      <th>...</th>\n",
       "      <td>...</td>\n",
       "      <td>...</td>\n",
       "    </tr>\n",
       "    <tr>\n",
       "      <th>5567</th>\n",
       "      <td>spam</td>\n",
       "      <td>This is the 2nd time we have tried 2 contact u...</td>\n",
       "    </tr>\n",
       "    <tr>\n",
       "      <th>5568</th>\n",
       "      <td>ham</td>\n",
       "      <td>Will ü b going to esplanade fr home?</td>\n",
       "    </tr>\n",
       "    <tr>\n",
       "      <th>5569</th>\n",
       "      <td>ham</td>\n",
       "      <td>Pity, * was in mood for that. So...any other s...</td>\n",
       "    </tr>\n",
       "    <tr>\n",
       "      <th>5570</th>\n",
       "      <td>ham</td>\n",
       "      <td>The guy did some bitching but I acted like i'd...</td>\n",
       "    </tr>\n",
       "    <tr>\n",
       "      <th>5571</th>\n",
       "      <td>ham</td>\n",
       "      <td>Rofl. Its true to its name</td>\n",
       "    </tr>\n",
       "  </tbody>\n",
       "</table>\n",
       "<p>5572 rows × 2 columns</p>\n",
       "</div>"
      ],
      "text/plain": [
       "     Category                                            Message\n",
       "0         ham  Go until jurong point, crazy.. Available only ...\n",
       "1         ham                      Ok lar... Joking wif u oni...\n",
       "2        spam  Free entry in 2 a wkly comp to win FA Cup fina...\n",
       "3         ham  U dun say so early hor... U c already then say...\n",
       "4         ham  Nah I don't think he goes to usf, he lives aro...\n",
       "...       ...                                                ...\n",
       "5567     spam  This is the 2nd time we have tried 2 contact u...\n",
       "5568      ham               Will ü b going to esplanade fr home?\n",
       "5569      ham  Pity, * was in mood for that. So...any other s...\n",
       "5570      ham  The guy did some bitching but I acted like i'd...\n",
       "5571      ham                         Rofl. Its true to its name\n",
       "\n",
       "[5572 rows x 2 columns]"
      ]
     },
     "execution_count": 6,
     "metadata": {},
     "output_type": "execute_result"
    }
   ],
   "source": [
    "data"
   ]
  },
  {
   "cell_type": "code",
   "execution_count": 7,
   "id": "027930c3",
   "metadata": {},
   "outputs": [],
   "source": [
    "idx = [i for i in range(5572)]\n",
    "data['id'] = idx"
   ]
  },
  {
   "cell_type": "code",
   "execution_count": 8,
   "id": "535753c5",
   "metadata": {},
   "outputs": [
    {
     "data": {
      "text/html": [
       "<div>\n",
       "<style scoped>\n",
       "    .dataframe tbody tr th:only-of-type {\n",
       "        vertical-align: middle;\n",
       "    }\n",
       "\n",
       "    .dataframe tbody tr th {\n",
       "        vertical-align: top;\n",
       "    }\n",
       "\n",
       "    .dataframe thead th {\n",
       "        text-align: right;\n",
       "    }\n",
       "</style>\n",
       "<table border=\"1\" class=\"dataframe\">\n",
       "  <thead>\n",
       "    <tr style=\"text-align: right;\">\n",
       "      <th></th>\n",
       "      <th>Category</th>\n",
       "      <th>Message</th>\n",
       "      <th>id</th>\n",
       "    </tr>\n",
       "  </thead>\n",
       "  <tbody>\n",
       "    <tr>\n",
       "      <th>0</th>\n",
       "      <td>ham</td>\n",
       "      <td>Go until jurong point, crazy.. Available only ...</td>\n",
       "      <td>0</td>\n",
       "    </tr>\n",
       "    <tr>\n",
       "      <th>1</th>\n",
       "      <td>ham</td>\n",
       "      <td>Ok lar... Joking wif u oni...</td>\n",
       "      <td>1</td>\n",
       "    </tr>\n",
       "    <tr>\n",
       "      <th>2</th>\n",
       "      <td>spam</td>\n",
       "      <td>Free entry in 2 a wkly comp to win FA Cup fina...</td>\n",
       "      <td>2</td>\n",
       "    </tr>\n",
       "    <tr>\n",
       "      <th>3</th>\n",
       "      <td>ham</td>\n",
       "      <td>U dun say so early hor... U c already then say...</td>\n",
       "      <td>3</td>\n",
       "    </tr>\n",
       "    <tr>\n",
       "      <th>4</th>\n",
       "      <td>ham</td>\n",
       "      <td>Nah I don't think he goes to usf, he lives aro...</td>\n",
       "      <td>4</td>\n",
       "    </tr>\n",
       "    <tr>\n",
       "      <th>...</th>\n",
       "      <td>...</td>\n",
       "      <td>...</td>\n",
       "      <td>...</td>\n",
       "    </tr>\n",
       "    <tr>\n",
       "      <th>5567</th>\n",
       "      <td>spam</td>\n",
       "      <td>This is the 2nd time we have tried 2 contact u...</td>\n",
       "      <td>5567</td>\n",
       "    </tr>\n",
       "    <tr>\n",
       "      <th>5568</th>\n",
       "      <td>ham</td>\n",
       "      <td>Will ü b going to esplanade fr home?</td>\n",
       "      <td>5568</td>\n",
       "    </tr>\n",
       "    <tr>\n",
       "      <th>5569</th>\n",
       "      <td>ham</td>\n",
       "      <td>Pity, * was in mood for that. So...any other s...</td>\n",
       "      <td>5569</td>\n",
       "    </tr>\n",
       "    <tr>\n",
       "      <th>5570</th>\n",
       "      <td>ham</td>\n",
       "      <td>The guy did some bitching but I acted like i'd...</td>\n",
       "      <td>5570</td>\n",
       "    </tr>\n",
       "    <tr>\n",
       "      <th>5571</th>\n",
       "      <td>ham</td>\n",
       "      <td>Rofl. Its true to its name</td>\n",
       "      <td>5571</td>\n",
       "    </tr>\n",
       "  </tbody>\n",
       "</table>\n",
       "<p>5572 rows × 3 columns</p>\n",
       "</div>"
      ],
      "text/plain": [
       "     Category                                            Message    id\n",
       "0         ham  Go until jurong point, crazy.. Available only ...     0\n",
       "1         ham                      Ok lar... Joking wif u oni...     1\n",
       "2        spam  Free entry in 2 a wkly comp to win FA Cup fina...     2\n",
       "3         ham  U dun say so early hor... U c already then say...     3\n",
       "4         ham  Nah I don't think he goes to usf, he lives aro...     4\n",
       "...       ...                                                ...   ...\n",
       "5567     spam  This is the 2nd time we have tried 2 contact u...  5567\n",
       "5568      ham               Will ü b going to esplanade fr home?  5568\n",
       "5569      ham  Pity, * was in mood for that. So...any other s...  5569\n",
       "5570      ham  The guy did some bitching but I acted like i'd...  5570\n",
       "5571      ham                         Rofl. Its true to its name  5571\n",
       "\n",
       "[5572 rows x 3 columns]"
      ]
     },
     "execution_count": 8,
     "metadata": {},
     "output_type": "execute_result"
    }
   ],
   "source": [
    "data"
   ]
  },
  {
   "cell_type": "code",
   "execution_count": 9,
   "id": "89070a19",
   "metadata": {},
   "outputs": [
    {
     "data": {
      "text/plain": [
       "array([<Axes: title={'center': 'ham'}>, <Axes: title={'center': 'spam'}>],\n",
       "      dtype=object)"
      ]
     },
     "execution_count": 9,
     "metadata": {},
     "output_type": "execute_result"
    },
    {
     "data": {
      "image/png": "[encoded data removed]",
      "text/plain": [
       "<Figure size 2000x700 with 2 Axes>"
      ]
     },
     "metadata": {},
     "output_type": "display_data"
    }
   ],
   "source": [
    "data.hist(column='id', by='Category', bins=100, figsize=(20,7))"
   ]
  },
  {
   "cell_type": "code",
   "execution_count": 11,
   "id": "b3976dac",
   "metadata": {},
   "outputs": [
    {
     "name": "stdout",
     "output_type": "stream",
     "text": [
      "Checking whether there is an H2O instance running at http://localhost:54321..... not found.\n",
      "Attempting to start a local H2O server...\n"
     ]
    },
    {
     "ename": "CalledProcessError",
     "evalue": "Command '['/usr/bin/java', '-version']' returned non-zero exit status 1.",
     "output_type": "error",
     "traceback": [
      "\u001b[0;31m---------------------------------------------------------------------------\u001b[0m",
      "\u001b[0;31mH2OConnectionError\u001b[0m                        Traceback (most recent call last)",
      "File \u001b[0;32m~/anaconda3/lib/python3.11/site-packages/h2o/h2o.py:269\u001b[0m, in \u001b[0;36minit\u001b[0;34m(url, ip, port, name, https, cacert, insecure, username, password, cookies, proxy, start_h2o, nthreads, ice_root, log_dir, log_level, max_log_file_size, enable_assertions, max_mem_size, min_mem_size, strict_version_check, ignore_config, extra_classpath, jvm_custom_args, bind_to_localhost, verbose, **kwargs)\u001b[0m\n\u001b[1;32m    268\u001b[0m \u001b[38;5;28;01mtry\u001b[39;00m:\n\u001b[0;32m--> 269\u001b[0m     h2oconn \u001b[38;5;241m=\u001b[39m H2OConnection\u001b[38;5;241m.\u001b[39mopen(url\u001b[38;5;241m=\u001b[39murl, ip\u001b[38;5;241m=\u001b[39mip, port\u001b[38;5;241m=\u001b[39mport, name\u001b[38;5;241m=\u001b[39mname, https\u001b[38;5;241m=\u001b[39mhttps,\n\u001b[1;32m    270\u001b[0m                                  verify_ssl_certificates\u001b[38;5;241m=\u001b[39mverify_ssl_certificates, cacert\u001b[38;5;241m=\u001b[39mcacert,\n\u001b[1;32m    271\u001b[0m                                  auth\u001b[38;5;241m=\u001b[39mauth, proxy\u001b[38;5;241m=\u001b[39mproxy, cookies\u001b[38;5;241m=\u001b[39mcookies, verbose\u001b[38;5;241m=\u001b[39mverbose,\n\u001b[1;32m    272\u001b[0m                                  msgs\u001b[38;5;241m=\u001b[39m(\u001b[38;5;124m\"\u001b[39m\u001b[38;5;124mChecking whether there is an H2O instance running at \u001b[39m\u001b[38;5;132;01m{url}\u001b[39;00m\u001b[38;5;124m\"\u001b[39m,\n\u001b[1;32m    273\u001b[0m                                        \u001b[38;5;124m\"\u001b[39m\u001b[38;5;124mconnected.\u001b[39m\u001b[38;5;124m\"\u001b[39m, \u001b[38;5;124m\"\u001b[39m\u001b[38;5;124mnot found.\u001b[39m\u001b[38;5;124m\"\u001b[39m),\n\u001b[1;32m    274\u001b[0m                                  strict_version_check\u001b[38;5;241m=\u001b[39msvc)\n\u001b[1;32m    275\u001b[0m \u001b[38;5;28;01mexcept\u001b[39;00m H2OConnectionError:\n\u001b[1;32m    276\u001b[0m     \u001b[38;5;66;03m# Backward compatibility: in init() port parameter really meant \"baseport\" when starting a local server...\u001b[39;00m\n",
      "File \u001b[0;32m~/anaconda3/lib/python3.11/site-packages/h2o/backend/connection.py:406\u001b[0m, in \u001b[0;36mH2OConnection.open\u001b[0;34m(server, url, ip, port, name, https, auth, verify_ssl_certificates, cacert, proxy, cookies, verbose, msgs, strict_version_check)\u001b[0m\n\u001b[1;32m    405\u001b[0m conn\u001b[38;5;241m.\u001b[39m_timeout \u001b[38;5;241m=\u001b[39m \u001b[38;5;241m3.0\u001b[39m\n\u001b[0;32m--> 406\u001b[0m conn\u001b[38;5;241m.\u001b[39m_cluster \u001b[38;5;241m=\u001b[39m conn\u001b[38;5;241m.\u001b[39m_test_connection(retries, messages\u001b[38;5;241m=\u001b[39mmsgs)\n\u001b[1;32m    407\u001b[0m \u001b[38;5;66;03m# If a server is unable to respond within 1s, it should be considered a bug. However we disable this\u001b[39;00m\n\u001b[1;32m    408\u001b[0m \u001b[38;5;66;03m# setting for now, for no good reason other than to ignore all those bugs :(\u001b[39;00m\n",
      "File \u001b[0;32m~/anaconda3/lib/python3.11/site-packages/h2o/backend/connection.py:713\u001b[0m, in \u001b[0;36mH2OConnection._test_connection\u001b[0;34m(self, max_retries, messages)\u001b[0m\n\u001b[1;32m    712\u001b[0m \u001b[38;5;28;01melse\u001b[39;00m:\n\u001b[0;32m--> 713\u001b[0m     \u001b[38;5;28;01mraise\u001b[39;00m H2OConnectionError(\u001b[38;5;124m\"\u001b[39m\u001b[38;5;124mCould not establish link to the H2O cloud \u001b[39m\u001b[38;5;132;01m%s\u001b[39;00m\u001b[38;5;124m after \u001b[39m\u001b[38;5;132;01m%d\u001b[39;00m\u001b[38;5;124m retries\u001b[39m\u001b[38;5;130;01m\\n\u001b[39;00m\u001b[38;5;132;01m%s\u001b[39;00m\u001b[38;5;124m\"\u001b[39m\n\u001b[1;32m    714\u001b[0m                              \u001b[38;5;241m%\u001b[39m (\u001b[38;5;28mself\u001b[39m\u001b[38;5;241m.\u001b[39m_base_url, max_retries, \u001b[38;5;124m\"\u001b[39m\u001b[38;5;130;01m\\n\u001b[39;00m\u001b[38;5;124m\"\u001b[39m\u001b[38;5;241m.\u001b[39mjoin(errors)))\n",
      "\u001b[0;31mH2OConnectionError\u001b[0m: Could not establish link to the H2O cloud http://localhost:54321 after 5 retries\n[35:09.53] H2OConnectionError: Unexpected HTTP error: HTTPConnectionPool(host='localhost', port=54321): Max retries exceeded with url: /3/Metadata/schemas/CloudV3 (Caused by NewConnectionError('<urllib3.connection.HTTPConnection object at 0x28b749c50>: Failed to establish a new connection: [Errno 61] Connection refused'))\n[35:09.74] H2OConnectionError: Unexpected HTTP error: HTTPConnectionPool(host='localhost', port=54321): Max retries exceeded with url: /3/Metadata/schemas/CloudV3 (Caused by NewConnectionError('<urllib3.connection.HTTPConnection object at 0x28bccf610>: Failed to establish a new connection: [Errno 61] Connection refused'))\n[35:09.95] H2OConnectionError: Unexpected HTTP error: HTTPConnectionPool(host='localhost', port=54321): Max retries exceeded with url: /3/Metadata/schemas/CloudV3 (Caused by NewConnectionError('<urllib3.connection.HTTPConnection object at 0x28bce1a50>: Failed to establish a new connection: [Errno 61] Connection refused'))\n[35:10.17] H2OConnectionError: Unexpected HTTP error: HTTPConnectionPool(host='localhost', port=54321): Max retries exceeded with url: /3/Metadata/schemas/CloudV3 (Caused by NewConnectionError('<urllib3.connection.HTTPConnection object at 0x28bccdad0>: Failed to establish a new connection: [Errno 61] Connection refused'))\n[35:10.38] H2OConnectionError: Unexpected HTTP error: HTTPConnectionPool(host='localhost', port=54321): Max retries exceeded with url: /3/Metadata/schemas/CloudV3 (Caused by NewConnectionError('<urllib3.connection.HTTPConnection object at 0x28bce20d0>: Failed to establish a new connection: [Errno 61] Connection refused'))",
      "\nDuring handling of the above exception, another exception occurred:\n",
      "\u001b[0;31mCalledProcessError\u001b[0m                        Traceback (most recent call last)",
      "Cell \u001b[0;32mIn[11], line 2\u001b[0m\n\u001b[1;32m      1\u001b[0m \u001b[38;5;28;01mimport\u001b[39;00m \u001b[38;5;21;01mh2o\u001b[39;00m\n\u001b[0;32m----> 2\u001b[0m h2o\u001b[38;5;241m.\u001b[39minit()\n",
      "File \u001b[0;32m~/anaconda3/lib/python3.11/site-packages/h2o/h2o.py:286\u001b[0m, in \u001b[0;36minit\u001b[0;34m(url, ip, port, name, https, cacert, insecure, username, password, cookies, proxy, start_h2o, nthreads, ice_root, log_dir, log_level, max_log_file_size, enable_assertions, max_mem_size, min_mem_size, strict_version_check, ignore_config, extra_classpath, jvm_custom_args, bind_to_localhost, verbose, **kwargs)\u001b[0m\n\u001b[1;32m    282\u001b[0m     \u001b[38;5;28;01mif\u001b[39;00m https:\n\u001b[1;32m    283\u001b[0m         \u001b[38;5;28;01mraise\u001b[39;00m H2OConnectionError(\u001b[38;5;124m'\u001b[39m\u001b[38;5;124mStarting local server is not available with https enabled. You may start local\u001b[39m\u001b[38;5;124m'\u001b[39m\n\u001b[1;32m    284\u001b[0m                                  \u001b[38;5;124m'\u001b[39m\u001b[38;5;124m instance of H2O with https manually \u001b[39m\u001b[38;5;124m'\u001b[39m\n\u001b[1;32m    285\u001b[0m                                  \u001b[38;5;124m'\u001b[39m\u001b[38;5;124m(https://docs.h2o.ai/h2o/latest-stable/h2o-docs/welcome.html#new-user-quick-start).\u001b[39m\u001b[38;5;124m'\u001b[39m)\n\u001b[0;32m--> 286\u001b[0m     hs \u001b[38;5;241m=\u001b[39m H2OLocalServer\u001b[38;5;241m.\u001b[39mstart(nthreads\u001b[38;5;241m=\u001b[39mnthreads, enable_assertions\u001b[38;5;241m=\u001b[39menable_assertions, max_mem_size\u001b[38;5;241m=\u001b[39mmmax,\n\u001b[1;32m    287\u001b[0m                               min_mem_size\u001b[38;5;241m=\u001b[39mmmin, ice_root\u001b[38;5;241m=\u001b[39mice_root, log_dir\u001b[38;5;241m=\u001b[39mlog_dir, log_level\u001b[38;5;241m=\u001b[39mlog_level,\n\u001b[1;32m    288\u001b[0m                               max_log_file_size\u001b[38;5;241m=\u001b[39mmax_log_file_size, port\u001b[38;5;241m=\u001b[39mport, name\u001b[38;5;241m=\u001b[39mname,\n\u001b[1;32m    289\u001b[0m                               extra_classpath\u001b[38;5;241m=\u001b[39mextra_classpath, jvm_custom_args\u001b[38;5;241m=\u001b[39mjvm_custom_args,\n\u001b[1;32m    290\u001b[0m                               bind_to_localhost\u001b[38;5;241m=\u001b[39mbind_to_localhost,verbose\u001b[38;5;241m=\u001b[39mverbose)\n\u001b[1;32m    291\u001b[0m     h2oconn \u001b[38;5;241m=\u001b[39m H2OConnection\u001b[38;5;241m.\u001b[39mopen(server\u001b[38;5;241m=\u001b[39mhs, https\u001b[38;5;241m=\u001b[39mhttps, verify_ssl_certificates\u001b[38;5;241m=\u001b[39mverify_ssl_certificates,\n\u001b[1;32m    292\u001b[0m                                  cacert\u001b[38;5;241m=\u001b[39mcacert, auth\u001b[38;5;241m=\u001b[39mauth, proxy\u001b[38;5;241m=\u001b[39mproxy, cookies\u001b[38;5;241m=\u001b[39mcookies, verbose\u001b[38;5;241m=\u001b[39mverbose,\n\u001b[1;32m    293\u001b[0m                                  strict_version_check\u001b[38;5;241m=\u001b[39msvc)\n\u001b[1;32m    294\u001b[0m h2oconn\u001b[38;5;241m.\u001b[39mcluster\u001b[38;5;241m.\u001b[39mtimezone \u001b[38;5;241m=\u001b[39m \u001b[38;5;124m\"\u001b[39m\u001b[38;5;124mUTC\u001b[39m\u001b[38;5;124m\"\u001b[39m\n",
      "File \u001b[0;32m~/anaconda3/lib/python3.11/site-packages/h2o/backend/server.py:139\u001b[0m, in \u001b[0;36mH2OLocalServer.start\u001b[0;34m(jar_path, nthreads, enable_assertions, max_mem_size, min_mem_size, ice_root, log_dir, log_level, max_log_file_size, port, name, extra_classpath, verbose, jvm_custom_args, bind_to_localhost)\u001b[0m\n\u001b[1;32m    136\u001b[0m     hs\u001b[38;5;241m.\u001b[39m_tempdir \u001b[38;5;241m=\u001b[39m hs\u001b[38;5;241m.\u001b[39m_ice_root\n\u001b[1;32m    138\u001b[0m \u001b[38;5;28;01mif\u001b[39;00m verbose: \u001b[38;5;28mprint\u001b[39m(\u001b[38;5;124m\"\u001b[39m\u001b[38;5;124mAttempting to start a local H2O server...\u001b[39m\u001b[38;5;124m\"\u001b[39m)\n\u001b[0;32m--> 139\u001b[0m hs\u001b[38;5;241m.\u001b[39m_launch_server(port\u001b[38;5;241m=\u001b[39mport, baseport\u001b[38;5;241m=\u001b[39mbaseport, nthreads\u001b[38;5;241m=\u001b[39m\u001b[38;5;28mint\u001b[39m(nthreads), ea\u001b[38;5;241m=\u001b[39menable_assertions,\n\u001b[1;32m    140\u001b[0m                   mmax\u001b[38;5;241m=\u001b[39mmax_mem_size, mmin\u001b[38;5;241m=\u001b[39mmin_mem_size, jvm_custom_args\u001b[38;5;241m=\u001b[39mjvm_custom_args,\n\u001b[1;32m    141\u001b[0m                   bind_to_localhost\u001b[38;5;241m=\u001b[39mbind_to_localhost, log_dir\u001b[38;5;241m=\u001b[39mlog_dir, log_level\u001b[38;5;241m=\u001b[39mlog_level, max_log_file_size\u001b[38;5;241m=\u001b[39mmax_log_file_size)\n\u001b[1;32m    142\u001b[0m \u001b[38;5;28;01mif\u001b[39;00m verbose: \u001b[38;5;28mprint\u001b[39m(\u001b[38;5;124m\"\u001b[39m\u001b[38;5;124m  Server is running at \u001b[39m\u001b[38;5;132;01m%s\u001b[39;00m\u001b[38;5;124m://\u001b[39m\u001b[38;5;132;01m%s\u001b[39;00m\u001b[38;5;124m:\u001b[39m\u001b[38;5;132;01m%d\u001b[39;00m\u001b[38;5;124m\"\u001b[39m \u001b[38;5;241m%\u001b[39m (hs\u001b[38;5;241m.\u001b[39mscheme, hs\u001b[38;5;241m.\u001b[39mip, hs\u001b[38;5;241m.\u001b[39mport))\n\u001b[1;32m    143\u001b[0m atexit\u001b[38;5;241m.\u001b[39mregister(\u001b[38;5;28;01mlambda\u001b[39;00m: hs\u001b[38;5;241m.\u001b[39mshutdown())\n",
      "File \u001b[0;32m~/anaconda3/lib/python3.11/site-packages/h2o/backend/server.py:272\u001b[0m, in \u001b[0;36mH2OLocalServer._launch_server\u001b[0;34m(self, port, baseport, mmax, mmin, ea, nthreads, jvm_custom_args, bind_to_localhost, log_dir, log_level, max_log_file_size)\u001b[0m\n\u001b[1;32m    270\u001b[0m \u001b[38;5;66;03m# Find Java and check version. (Note that subprocess.check_output returns the output as a bytes object)\u001b[39;00m\n\u001b[1;32m    271\u001b[0m java \u001b[38;5;241m=\u001b[39m \u001b[38;5;28mself\u001b[39m\u001b[38;5;241m.\u001b[39m_find_java()\n\u001b[0;32m--> 272\u001b[0m \u001b[38;5;28mself\u001b[39m\u001b[38;5;241m.\u001b[39m_check_java(java, \u001b[38;5;28mself\u001b[39m\u001b[38;5;241m.\u001b[39m_verbose)\n\u001b[1;32m    274\u001b[0m \u001b[38;5;28;01mif\u001b[39;00m \u001b[38;5;28mself\u001b[39m\u001b[38;5;241m.\u001b[39m_verbose:\n\u001b[1;32m    275\u001b[0m     \u001b[38;5;28mprint\u001b[39m(\u001b[38;5;124m\"\u001b[39m\u001b[38;5;124m  Starting server from \u001b[39m\u001b[38;5;124m\"\u001b[39m \u001b[38;5;241m+\u001b[39m \u001b[38;5;28mself\u001b[39m\u001b[38;5;241m.\u001b[39m_jar_path)\n",
      "File \u001b[0;32m~/anaconda3/lib/python3.11/site-packages/h2o/backend/server.py:377\u001b[0m, in \u001b[0;36mH2OLocalServer._check_java\u001b[0;34m(java, verbose)\u001b[0m\n\u001b[1;32m    375\u001b[0m \u001b[38;5;129m@staticmethod\u001b[39m\n\u001b[1;32m    376\u001b[0m \u001b[38;5;28;01mdef\u001b[39;00m \u001b[38;5;21m_check_java\u001b[39m(java, verbose):\n\u001b[0;32m--> 377\u001b[0m     jver_bytes \u001b[38;5;241m=\u001b[39m subprocess\u001b[38;5;241m.\u001b[39mcheck_output([java, \u001b[38;5;124m\"\u001b[39m\u001b[38;5;124m-version\u001b[39m\u001b[38;5;124m\"\u001b[39m], stderr\u001b[38;5;241m=\u001b[39msubprocess\u001b[38;5;241m.\u001b[39mSTDOUT)\n\u001b[1;32m    378\u001b[0m     jver \u001b[38;5;241m=\u001b[39m jver_bytes\u001b[38;5;241m.\u001b[39mdecode(encoding\u001b[38;5;241m=\u001b[39m\u001b[38;5;124m\"\u001b[39m\u001b[38;5;124mutf-8\u001b[39m\u001b[38;5;124m\"\u001b[39m, errors\u001b[38;5;241m=\u001b[39m\u001b[38;5;124m\"\u001b[39m\u001b[38;5;124mignore\u001b[39m\u001b[38;5;124m\"\u001b[39m)\n\u001b[1;32m    379\u001b[0m     \u001b[38;5;28;01mif\u001b[39;00m verbose:\n",
      "File \u001b[0;32m~/anaconda3/lib/python3.11/subprocess.py:466\u001b[0m, in \u001b[0;36mcheck_output\u001b[0;34m(timeout, *popenargs, **kwargs)\u001b[0m\n\u001b[1;32m    463\u001b[0m         empty \u001b[38;5;241m=\u001b[39m \u001b[38;5;124mb\u001b[39m\u001b[38;5;124m'\u001b[39m\u001b[38;5;124m'\u001b[39m\n\u001b[1;32m    464\u001b[0m     kwargs[\u001b[38;5;124m'\u001b[39m\u001b[38;5;124minput\u001b[39m\u001b[38;5;124m'\u001b[39m] \u001b[38;5;241m=\u001b[39m empty\n\u001b[0;32m--> 466\u001b[0m \u001b[38;5;28;01mreturn\u001b[39;00m run(\u001b[38;5;241m*\u001b[39mpopenargs, stdout\u001b[38;5;241m=\u001b[39mPIPE, timeout\u001b[38;5;241m=\u001b[39mtimeout, check\u001b[38;5;241m=\u001b[39m\u001b[38;5;28;01mTrue\u001b[39;00m,\n\u001b[1;32m    467\u001b[0m            \u001b[38;5;241m*\u001b[39m\u001b[38;5;241m*\u001b[39mkwargs)\u001b[38;5;241m.\u001b[39mstdout\n",
      "File \u001b[0;32m~/anaconda3/lib/python3.11/subprocess.py:571\u001b[0m, in \u001b[0;36mrun\u001b[0;34m(input, capture_output, timeout, check, *popenargs, **kwargs)\u001b[0m\n\u001b[1;32m    569\u001b[0m     retcode \u001b[38;5;241m=\u001b[39m process\u001b[38;5;241m.\u001b[39mpoll()\n\u001b[1;32m    570\u001b[0m     \u001b[38;5;28;01mif\u001b[39;00m check \u001b[38;5;129;01mand\u001b[39;00m retcode:\n\u001b[0;32m--> 571\u001b[0m         \u001b[38;5;28;01mraise\u001b[39;00m CalledProcessError(retcode, process\u001b[38;5;241m.\u001b[39margs,\n\u001b[1;32m    572\u001b[0m                                  output\u001b[38;5;241m=\u001b[39mstdout, stderr\u001b[38;5;241m=\u001b[39mstderr)\n\u001b[1;32m    573\u001b[0m \u001b[38;5;28;01mreturn\u001b[39;00m CompletedProcess(process\u001b[38;5;241m.\u001b[39margs, retcode, stdout, stderr)\n",
      "\u001b[0;31mCalledProcessError\u001b[0m: Command '['/usr/bin/java', '-version']' returned non-zero exit status 1."
     ]
    }
   ],
   "source": [
    "import h2o\n",
    "h2o.init()"
   ]
  },
  {
   "cell_type": "code",
   "execution_count": 15,
   "id": "131b1ce4",
   "metadata": {},
   "outputs": [
    {
     "ename": "H2OTypeError",
     "evalue": "Argument `kwargs` should be a dict(\"proxies\": dict(string: string), \"max_mem_size_GB\": integer, \"min_mem_size_GB\": integer, \"force_connect\": bool, \"as_port\": bool), got dict {'java_options': '-Djava.library.path=/path/to/java'}",
     "output_type": "error",
     "traceback": [
      "\u001b[0;31m---------------------------------------------------------------------------\u001b[0m",
      "\u001b[0;31mH2OTypeError\u001b[0m                              Traceback (most recent call last)",
      "Cell \u001b[0;32mIn[15], line 3\u001b[0m\n\u001b[1;32m      1\u001b[0m \u001b[38;5;28;01mimport\u001b[39;00m \u001b[38;5;21;01mh2o\u001b[39;00m\n\u001b[0;32m----> 3\u001b[0m h2o\u001b[38;5;241m.\u001b[39minit(java_options\u001b[38;5;241m=\u001b[39m\u001b[38;5;124m\"\u001b[39m\u001b[38;5;124m-Djava.library.path=/path/to/java\u001b[39m\u001b[38;5;124m\"\u001b[39m)\n",
      "File \u001b[0;32m~/anaconda3/lib/python3.11/site-packages/h2o/h2o.py:215\u001b[0m, in \u001b[0;36minit\u001b[0;34m(url, ip, port, name, https, cacert, insecure, username, password, cookies, proxy, start_h2o, nthreads, ice_root, log_dir, log_level, max_log_file_size, enable_assertions, max_mem_size, min_mem_size, strict_version_check, ignore_config, extra_classpath, jvm_custom_args, bind_to_localhost, verbose, **kwargs)\u001b[0m\n\u001b[1;32m    213\u001b[0m assert_is_type(jvm_custom_args, [\u001b[38;5;28mstr\u001b[39m], \u001b[38;5;28;01mNone\u001b[39;00m)\n\u001b[1;32m    214\u001b[0m assert_is_type(bind_to_localhost, \u001b[38;5;28mbool\u001b[39m)\n\u001b[0;32m--> 215\u001b[0m assert_is_type(kwargs, {\u001b[38;5;124m\"\u001b[39m\u001b[38;5;124mproxies\u001b[39m\u001b[38;5;124m\"\u001b[39m: {\u001b[38;5;28mstr\u001b[39m: \u001b[38;5;28mstr\u001b[39m}, \u001b[38;5;124m\"\u001b[39m\u001b[38;5;124mmax_mem_size_GB\u001b[39m\u001b[38;5;124m\"\u001b[39m: \u001b[38;5;28mint\u001b[39m, \u001b[38;5;124m\"\u001b[39m\u001b[38;5;124mmin_mem_size_GB\u001b[39m\u001b[38;5;124m\"\u001b[39m: \u001b[38;5;28mint\u001b[39m,\n\u001b[1;32m    216\u001b[0m                         \u001b[38;5;124m\"\u001b[39m\u001b[38;5;124mforce_connect\u001b[39m\u001b[38;5;124m\"\u001b[39m: \u001b[38;5;28mbool\u001b[39m, \u001b[38;5;124m\"\u001b[39m\u001b[38;5;124mas_port\u001b[39m\u001b[38;5;124m\"\u001b[39m: \u001b[38;5;28mbool\u001b[39m})\n\u001b[1;32m    218\u001b[0m \u001b[38;5;28;01mdef\u001b[39;00m \u001b[38;5;21mget_mem_size\u001b[39m(mmint, mmgb):\n\u001b[1;32m    219\u001b[0m     \u001b[38;5;28;01mif\u001b[39;00m \u001b[38;5;129;01mnot\u001b[39;00m mmint:  \u001b[38;5;66;03m# treat 0 and \"\" as if they were None\u001b[39;00m\n",
      "File \u001b[0;32m~/anaconda3/lib/python3.11/site-packages/h2o/utils/typechecks.py:444\u001b[0m, in \u001b[0;36massert_is_type\u001b[0;34m(var, *types, **kwargs)\u001b[0m\n\u001b[1;32m    442\u001b[0m etn \u001b[38;5;241m=\u001b[39m _get_type_name(expected_type, dump\u001b[38;5;241m=\u001b[39m\u001b[38;5;124m\"\u001b[39m\u001b[38;5;124m, \u001b[39m\u001b[38;5;124m\"\u001b[39m\u001b[38;5;241m.\u001b[39mjoin(args[\u001b[38;5;241m1\u001b[39m:]))\n\u001b[1;32m    443\u001b[0m vtn \u001b[38;5;241m=\u001b[39m _get_type_name(\u001b[38;5;28mtype\u001b[39m(var))\n\u001b[0;32m--> 444\u001b[0m \u001b[38;5;28;01mraise\u001b[39;00m H2OTypeError(var_name\u001b[38;5;241m=\u001b[39mvname, var_value\u001b[38;5;241m=\u001b[39mvar, var_type_name\u001b[38;5;241m=\u001b[39mvtn, exp_type_name\u001b[38;5;241m=\u001b[39metn, message\u001b[38;5;241m=\u001b[39mmessage,\n\u001b[1;32m    445\u001b[0m                    skip_frames\u001b[38;5;241m=\u001b[39mskip_frames)\n",
      "\u001b[0;31mH2OTypeError\u001b[0m: Argument `kwargs` should be a dict(\"proxies\": dict(string: string), \"max_mem_size_GB\": integer, \"min_mem_size_GB\": integer, \"force_connect\": bool, \"as_port\": bool), got dict {'java_options': '-Djava.library.path=/path/to/java'}"
     ]
    }
   ],
   "source": [
    "import h2o\n",
    "\n",
    "h2o.init(java_options=\"-Djava.library.path=/path/to/java\")\n",
    "\n",
    "\n"
   ]
  },
  {
   "cell_type": "code",
   "execution_count": 16,
   "id": "7a941d27",
   "metadata": {},
   "outputs": [
    {
     "name": "stdout",
     "output_type": "stream",
     "text": [
      "Requirement already satisfied: h2o in ./anaconda3/lib/python3.11/site-packages (3.44.0.2)\n",
      "Requirement already satisfied: requests in ./anaconda3/lib/python3.11/site-packages (from h2o) (2.31.0)\n",
      "Requirement already satisfied: tabulate in ./anaconda3/lib/python3.11/site-packages (from h2o) (0.8.10)\n",
      "Requirement already satisfied: charset-normalizer<4,>=2 in ./anaconda3/lib/python3.11/site-packages (from requests->h2o) (2.0.4)\n",
      "Requirement already satisfied: idna<4,>=2.5 in ./anaconda3/lib/python3.11/site-packages (from requests->h2o) (3.4)\n",
      "Requirement already satisfied: urllib3<3,>=1.21.1 in ./anaconda3/lib/python3.11/site-packages (from requests->h2o) (1.26.16)\n",
      "Requirement already satisfied: certifi>=2017.4.17 in ./anaconda3/lib/python3.11/site-packages (from requests->h2o) (2023.7.22)\n",
      "Note: you may need to restart the kernel to use updated packages.\n"
     ]
    }
   ],
   "source": [
    "pip install h2o"
   ]
  },
  {
   "cell_type": "code",
   "execution_count": 3,
   "id": "156267f3",
   "metadata": {},
   "outputs": [
    {
     "name": "stdout",
     "output_type": "stream",
     "text": [
      "Checking whether there is an H2O instance running at http://localhost:54321..... not found.\n",
      "Attempting to start a local H2O server...\n",
      "  Java Version: java version \"21.0.1\" 2023-10-17 LTS; Java(TM) SE Runtime Environment (build 21.0.1+12-LTS-29); Java HotSpot(TM) 64-Bit Server VM (build 21.0.1+12-LTS-29, mixed mode, sharing)\n",
      "  Starting server from /Users/admin/anaconda3/lib/python3.11/site-packages/h2o/backend/bin/h2o.jar\n",
      "  Ice root: /var/folders/fb/2gqv27h160qbkk6lghk1vkjw0000gn/T/tmpyd2bfv_u\n",
      "  JVM stdout: /var/folders/fb/2gqv27h160qbkk6lghk1vkjw0000gn/T/tmpyd2bfv_u/h2o_admin_started_from_python.out\n",
      "  JVM stderr: /var/folders/fb/2gqv27h160qbkk6lghk1vkjw0000gn/T/tmpyd2bfv_u/h2o_admin_started_from_python.err\n",
      "  Server is running at http://127.0.0.1:54321\n",
      "Connecting to H2O server at http://127.0.0.1:54321 ... successful.\n"
     ]
    },
    {
     "data": {
      "text/html": [
       "\n",
       "<style>\n",
       "\n",
       "#h2o-table-1.h2o-container {\n",
       "  overflow-x: auto;\n",
       "}\n",
       "#h2o-table-1 .h2o-table {\n",
       "  /* width: 100%; */\n",
       "  margin-top: 1em;\n",
       "  margin-bottom: 1em;\n",
       "}\n",
       "#h2o-table-1 .h2o-table caption {\n",
       "  white-space: nowrap;\n",
       "  caption-side: top;\n",
       "  text-align: left;\n",
       "  /* margin-left: 1em; */\n",
       "  margin: 0;\n",
       "  font-size: larger;\n",
       "}\n",
       "#h2o-table-1 .h2o-table thead {\n",
       "  white-space: nowrap; \n",
       "  position: sticky;\n",
       "  top: 0;\n",
       "  box-shadow: 0 -1px inset;\n",
       "}\n",
       "#h2o-table-1 .h2o-table tbody {\n",
       "  overflow: auto;\n",
       "}\n",
       "#h2o-table-1 .h2o-table th,\n",
       "#h2o-table-1 .h2o-table td {\n",
       "  text-align: right;\n",
       "  /* border: 1px solid; */\n",
       "}\n",
       "#h2o-table-1 .h2o-table tr:nth-child(even) {\n",
       "  /* background: #F5F5F5 */\n",
       "}\n",
       "\n",
       "</style>      \n",
       "<div id=\"h2o-table-1\" class=\"h2o-container\">\n",
       "  <table class=\"h2o-table\">\n",
       "    <caption></caption>\n",
       "    <thead></thead>\n",
       "    <tbody><tr><td>H2O_cluster_uptime:</td>\n",
       "<td>02 secs</td></tr>\n",
       "<tr><td>H2O_cluster_timezone:</td>\n",
       "<td>Asia/Kolkata</td></tr>\n",
       "<tr><td>H2O_data_parsing_timezone:</td>\n",
       "<td>UTC</td></tr>\n",
       "<tr><td>H2O_cluster_version:</td>\n",
       "<td>3.44.0.2</td></tr>\n",
       "<tr><td>H2O_cluster_version_age:</td>\n",
       "<td>1 month and 11 days</td></tr>\n",
       "<tr><td>H2O_cluster_name:</td>\n",
       "<td>H2O_from_python_admin_6b3228</td></tr>\n",
       "<tr><td>H2O_cluster_total_nodes:</td>\n",
       "<td>1</td></tr>\n",
       "<tr><td>H2O_cluster_free_memory:</td>\n",
       "<td>3.984 Gb</td></tr>\n",
       "<tr><td>H2O_cluster_total_cores:</td>\n",
       "<td>8</td></tr>\n",
       "<tr><td>H2O_cluster_allowed_cores:</td>\n",
       "<td>8</td></tr>\n",
       "<tr><td>H2O_cluster_status:</td>\n",
       "<td>locked, healthy</td></tr>\n",
       "<tr><td>H2O_connection_url:</td>\n",
       "<td>http://127.0.0.1:54321</td></tr>\n",
       "<tr><td>H2O_connection_proxy:</td>\n",
       "<td>{\"http\": null, \"https\": null}</td></tr>\n",
       "<tr><td>H2O_internal_security:</td>\n",
       "<td>False</td></tr>\n",
       "<tr><td>Python_version:</td>\n",
       "<td>3.11.5 final</td></tr></tbody>\n",
       "  </table>\n",
       "</div>\n"
      ],
      "text/plain": [
       "--------------------------  -----------------------------\n",
       "H2O_cluster_uptime:         02 secs\n",
       "H2O_cluster_timezone:       Asia/Kolkata\n",
       "H2O_data_parsing_timezone:  UTC\n",
       "H2O_cluster_version:        3.44.0.2\n",
       "H2O_cluster_version_age:    1 month and 11 days\n",
       "H2O_cluster_name:           H2O_from_python_admin_6b3228\n",
       "H2O_cluster_total_nodes:    1\n",
       "H2O_cluster_free_memory:    3.984 Gb\n",
       "H2O_cluster_total_cores:    8\n",
       "H2O_cluster_allowed_cores:  8\n",
       "H2O_cluster_status:         locked, healthy\n",
       "H2O_connection_url:         http://127.0.0.1:54321\n",
       "H2O_connection_proxy:       {\"http\": null, \"https\": null}\n",
       "H2O_internal_security:      False\n",
       "Python_version:             3.11.5 final\n",
       "--------------------------  -----------------------------"
      ]
     },
     "metadata": {},
     "output_type": "display_data"
    }
   ],
   "source": [
    "import h2o\n",
    "h2o.init()"
   ]
  },
  {
   "cell_type": "code",
   "execution_count": 4,
   "id": "4f27a7a6",
   "metadata": {},
   "outputs": [],
   "source": [
    "from h2o.automl import H2OAutoML\n",
    "from h2o.estimators.word2vec import H2OWord2vecEstimator\n",
    "from h2o.estimators.gbm import H2OGradientBoostingEstimator"
   ]
  },
  {
   "cell_type": "code",
   "execution_count": 6,
   "id": "79d510ed",
   "metadata": {},
   "outputs": [
    {
     "name": "stdout",
     "output_type": "stream",
     "text": [
      "Parse progress: |████████████████████████████████████████████████████████████████| (done) 100%\n"
     ]
    }
   ],
   "source": [
    "data = h2o.import_file('spam.csv',col_names = [\"category\", \"Email\"],col_types = [\"enum\", \"string\"], header = 1)"
   ]
  },
  {
   "cell_type": "code",
   "execution_count": 7,
   "id": "3aa15675",
   "metadata": {},
   "outputs": [
    {
     "data": {
      "text/html": [
       "<table class='dataframe'>\n",
       "<thead>\n",
       "<tr><th>category  </th><th>Email                                                                                                                                                           </th></tr>\n",
       "</thead>\n",
       "<tbody>\n",
       "<tr><td>Category  </td><td>Message                                                                                                                                                         </td></tr>\n",
       "<tr><td>ham       </td><td>Go until jurong point, crazy.. Available only in bugis n great world la e buffet... Cine there got amore wat...                                                 </td></tr>\n",
       "<tr><td>ham       </td><td>Ok lar... Joking wif u oni...                                                                                                                                   </td></tr>\n",
       "<tr><td>spam      </td><td>Free entry in 2 a wkly comp to win FA Cup final tkts 21st May 2005. Text FA to 87121 to receive entry question(std txt rate)T&amp;C&#x27;s apply 08452810075over18&#x27;s     </td></tr>\n",
       "<tr><td>ham       </td><td>U dun say so early hor... U c already then say...                                                                                                               </td></tr>\n",
       "<tr><td>ham       </td><td>Nah I don&#x27;t think he goes to usf, he lives around here though                                                                                                   </td></tr>\n",
       "<tr><td>spam      </td><td>FreeMsg Hey there darling it&#x27;s been 3 week&#x27;s now and no word back! I&#x27;d like some fun you up for it still? Tb ok! XxX std chgs to send, £1.50 to rcv             </td></tr>\n",
       "<tr><td>ham       </td><td>Even my brother is not like to speak with me. They treat me like aids patent.                                                                                   </td></tr>\n",
       "<tr><td>ham       </td><td>As per your request &#x27;Melle Melle (Oru Minnaminunginte Nurungu Vettam)&#x27; has been set as your callertune for all Callers. Press *9 to copy your friends Callertune</td></tr>\n",
       "<tr><td>spam      </td><td>WINNER!! As a valued network customer you have been selected to receivea £900 prize reward! To claim call 09061701461. Claim code KL341. Valid 12 hours only.   </td></tr>\n",
       "</tbody>\n",
       "</table><pre style='font-size: smaller; margin-bottom: 1em;'>[10 rows x 2 columns]</pre>"
      ],
      "text/plain": [
       "category    Email\n",
       "----------  ----------------------------------------------------------------------------------------------------------------------------------------------------------------\n",
       "Category    Message\n",
       "ham         Go until jurong point, crazy.. Available only in bugis n great world la e buffet... Cine there got amore wat...\n",
       "ham         Ok lar... Joking wif u oni...\n",
       "spam        Free entry in 2 a wkly comp to win FA Cup final tkts 21st May 2005. Text FA to 87121 to receive entry question(std txt rate)T&C's apply 08452810075over18's\n",
       "ham         U dun say so early hor... U c already then say...\n",
       "ham         Nah I don't think he goes to usf, he lives around here though\n",
       "spam        FreeMsg Hey there darling it's been 3 week's now and no word back! I'd like some fun you up for it still? Tb ok! XxX std chgs to send, £1.50 to rcv\n",
       "ham         Even my brother is not like to speak with me. They treat me like aids patent.\n",
       "ham         As per your request 'Melle Melle (Oru Minnaminunginte Nurungu Vettam)' has been set as your callertune for all Callers. Press *9 to copy your friends Callertune\n",
       "spam        WINNER!! As a valued network customer you have been selected to receivea £900 prize reward! To claim call 09061701461. Claim code KL341. Valid 12 hours only.\n",
       "[10 rows x 2 columns]\n"
      ]
     },
     "execution_count": 7,
     "metadata": {},
     "output_type": "execute_result"
    }
   ],
   "source": [
    "data.head()"
   ]
  },
  {
   "cell_type": "code",
   "execution_count": 8,
   "id": "d719a0f3",
   "metadata": {},
   "outputs": [],
   "source": [
    "data['category'] = data['category'].asfactor()"
   ]
  },
  {
   "cell_type": "code",
   "execution_count": 10,
   "id": "aaa3d1d1",
   "metadata": {},
   "outputs": [
    {
     "name": "stderr",
     "output_type": "stream",
     "text": [
      "[nltk_data] Downloading package stopwords to /Users/admin/nltk_data...\n",
      "[nltk_data]   Unzipping corpora/stopwords.zip.\n"
     ]
    }
   ],
   "source": [
    "import nltk\n",
    "from nltk.corpus import stopwords\n",
    "\n",
    "# Download the stopwords dataset if you haven't done so already\n",
    "nltk.download('stopwords')\n",
    "\n",
    "# Create a set of English stopwords\n",
    "stop_words = set(stopwords.words('english'))\n"
   ]
  },
  {
   "cell_type": "code",
   "execution_count": 11,
   "id": "7c6cbf3d",
   "metadata": {},
   "outputs": [],
   "source": [
    "def tokenize(sentences, stop_word = stop_words):\n",
    "    tokenized = sentences.tokenize(\"\\\\W+\")\n",
    "    tokenized_lower = tokenized.tolower()\n",
    "    tokenized_filtered = tokenized_lower[(tokenized_lower.nchar() >= 2) | (tokenized_lower.isna()),:]\n",
    "    tokenized_words = tokenized_filtered[tokenized_filtered.grep(\"[0-9]\",invert=True,output_logical=True),:]\n",
    "    tokenized_words = tokenized_words[(tokenized_words.isna()) | (~ tokenized_words.isin(stop_words)),:]\n",
    "    return tokenized_words"
   ]
  },
  {
   "cell_type": "code",
   "execution_count": 12,
   "id": "92a68b86",
   "metadata": {},
   "outputs": [],
   "source": [
    "def predict(job_title,w2v, gbm):\n",
    "    words = tokenize(h2o.H2OFrame(job_title).ascharacter())\n",
    "    job_title_vec = w2v.transform(words, aggregate_method=\"AVERAGE\")\n",
    "    print(gbm.predict(test_data=job_title_vec))"
   ]
  },
  {
   "cell_type": "code",
   "execution_count": 13,
   "id": "98567839",
   "metadata": {},
   "outputs": [],
   "source": [
    "words = tokenize(data[\"Email\"])"
   ]
  },
  {
   "cell_type": "code",
   "execution_count": 14,
   "id": "ff890b93",
   "metadata": {},
   "outputs": [
    {
     "name": "stdout",
     "output_type": "stream",
     "text": [
      "Build word2vec model\n",
      "word2vec Model Build progress: |█████████████████████████████████████████████████| (done) 100%\n"
     ]
    },
    {
     "data": {
      "text/html": [
       "<pre style='margin: 1em 0 1em 0;'>Model Details\n",
       "=============\n",
       "H2OWord2vecEstimator : Word2Vec\n",
       "Model Key: Word2Vec_model_python_1702967009108_1\n",
       "\n",
       "No summary for this model</pre><pre style=\"font-size: smaller; margin: 1em 0 0 0;\">\n",
       "\n",
       "[tips]\n",
       "Use `model.explain()` to inspect the model.\n",
       "--\n",
       "Use `h2o.display.toggle_user_tips()` to switch on/off this section.</pre>"
      ],
      "text/plain": [
       "Model Details\n",
       "=============\n",
       "H2OWord2vecEstimator : Word2Vec\n",
       "Model Key: Word2Vec_model_python_1702967009108_1\n",
       "\n",
       "No summary for this model\n",
       "\n",
       "[tips]\n",
       "Use `model.explain()` to inspect the model.\n",
       "--\n",
       "Use `h2o.display.toggle_user_tips()` to switch on/off this section."
      ]
     },
     "execution_count": 14,
     "metadata": {},
     "output_type": "execute_result"
    }
   ],
   "source": [
    "print(\"Build word2vec model\")\n",
    "w2v_model = H2OWord2vecEstimator(sent_sample_rate = 0.0, epochs = 10)\n",
    "w2v_model.train(training_frame=words)"
   ]
  },
  {
   "cell_type": "code",
   "execution_count": 15,
   "id": "e774ddc7",
   "metadata": {},
   "outputs": [
    {
     "name": "stdout",
     "output_type": "stream",
     "text": [
      "Calculate a vector for each job title\n"
     ]
    }
   ],
   "source": [
    "print(\"Calculate a vector for each job title\")\n",
    "vecs = w2v_model.transform(words, aggregate_method = \"AVERAGE\")"
   ]
  },
  {
   "cell_type": "code",
   "execution_count": 18,
   "id": "3ae51c9e",
   "metadata": {},
   "outputs": [
    {
     "name": "stdout",
     "output_type": "stream",
     "text": [
      "Prepare training&validation data\n"
     ]
    }
   ],
   "source": [
    "print(\"Prepare training&validation data\")\n",
    "categ = ~ vecs[\"C1\"].isna()\n",
    "data = data[categ,:].cbind(vecs[categ,:])\n",
    "\n"
   ]
  },
  {
   "cell_type": "code",
   "execution_count": 19,
   "id": "e332596e",
   "metadata": {},
   "outputs": [],
   "source": [
    "data_split = data.split_frame(ratios=[0.8])"
   ]
  },
  {
   "cell_type": "code",
   "execution_count": 20,
   "id": "062fdad8",
   "metadata": {},
   "outputs": [
    {
     "name": "stdout",
     "output_type": "stream",
     "text": [
      "AutoML progress: |\n",
      "11:59:00.787: AutoML: XGBoost is not available; skipping it.\n",
      "\n",
      "\n",
      "11:59:01.412: GLM_1_AutoML_1_20231219_115900 [GLM def_1] failed: java.lang.ArrayIndexOutOfBoundsException: Index 99 out of bounds for length 99\n",
      "\n",
      "███████████████████████████████████████████████████████████████| (done) 100%\n"
     ]
    },
    {
     "data": {
      "text/html": [
       "<pre style='margin: 1em 0 1em 0;'>Model Details\n",
       "=============\n",
       "H2OStackedEnsembleEstimator : Stacked Ensemble\n",
       "Model Key: StackedEnsemble_BestOfFamily_1_AutoML_1_20231219_115900\n",
       "</pre>\n",
       "<div style='margin: 1em 0 1em 0;'>\n",
       "<style>\n",
       "\n",
       "#h2o-table-2.h2o-container {\n",
       "  overflow-x: auto;\n",
       "}\n",
       "#h2o-table-2 .h2o-table {\n",
       "  /* width: 100%; */\n",
       "  margin-top: 1em;\n",
       "  margin-bottom: 1em;\n",
       "}\n",
       "#h2o-table-2 .h2o-table caption {\n",
       "  white-space: nowrap;\n",
       "  caption-side: top;\n",
       "  text-align: left;\n",
       "  /* margin-left: 1em; */\n",
       "  margin: 0;\n",
       "  font-size: larger;\n",
       "}\n",
       "#h2o-table-2 .h2o-table thead {\n",
       "  white-space: nowrap; \n",
       "  position: sticky;\n",
       "  top: 0;\n",
       "  box-shadow: 0 -1px inset;\n",
       "}\n",
       "#h2o-table-2 .h2o-table tbody {\n",
       "  overflow: auto;\n",
       "}\n",
       "#h2o-table-2 .h2o-table th,\n",
       "#h2o-table-2 .h2o-table td {\n",
       "  text-align: right;\n",
       "  /* border: 1px solid; */\n",
       "}\n",
       "#h2o-table-2 .h2o-table tr:nth-child(even) {\n",
       "  /* background: #F5F5F5 */\n",
       "}\n",
       "\n",
       "</style>      \n",
       "<div id=\"h2o-table-2\" class=\"h2o-container\">\n",
       "  <table class=\"h2o-table\">\n",
       "    <caption>Model Summary for Stacked Ensemble: </caption>\n",
       "    <thead><tr><th>key</th>\n",
       "<th>value</th></tr></thead>\n",
       "    <tbody><tr><td>Stacking strategy</td>\n",
       "<td>cross_validation</td></tr>\n",
       "<tr><td>Number of base models (used / total)</td>\n",
       "<td>3/4</td></tr>\n",
       "<tr><td># GBM base models (used / total)</td>\n",
       "<td>1/1</td></tr>\n",
       "<tr><td># DeepLearning base models (used / total)</td>\n",
       "<td>1/1</td></tr>\n",
       "<tr><td># DRF base models (used / total)</td>\n",
       "<td>1/2</td></tr>\n",
       "<tr><td>Metalearner algorithm</td>\n",
       "<td>GLM</td></tr>\n",
       "<tr><td>Metalearner fold assignment scheme</td>\n",
       "<td>Random</td></tr>\n",
       "<tr><td>Metalearner nfolds</td>\n",
       "<td>5</td></tr>\n",
       "<tr><td>Metalearner fold_column</td>\n",
       "<td>None</td></tr>\n",
       "<tr><td>Custom metalearner hyperparameters</td>\n",
       "<td>None</td></tr></tbody>\n",
       "  </table>\n",
       "</div>\n",
       "</div>\n",
       "<div style='margin: 1em 0 1em 0;'><pre style='margin: 1em 0 1em 0;'>ModelMetricsMultinomialGLM: stackedensemble\n",
       "** Reported on train data. **\n",
       "\n",
       "MSE: 0.004134971431624869\n",
       "RMSE: 0.06430374352730071\n",
       "LogLoss: 0.025321141844064844\n",
       "Null degrees of freedom: 4356\n",
       "Residual degrees of freedom: 4345\n",
       "Null deviance: 3477.7178950514162\n",
       "Residual deviance: 220.64843002918133\n",
       "AUC table was not computed: it is either disabled (model parameter 'auc_type' was set to AUTO or NONE) or the domain size exceeds the limit (maximum is 50 domains).\n",
       "AUCPR table was not computed: it is either disabled (model parameter 'auc_type' was set to AUTO or NONE) or the domain size exceeds the limit (maximum is 50 domains).</pre>\n",
       "<div style='margin: 1em 0 1em 0;'>\n",
       "<style>\n",
       "\n",
       "#h2o-table-3.h2o-container {\n",
       "  overflow-x: auto;\n",
       "}\n",
       "#h2o-table-3 .h2o-table {\n",
       "  /* width: 100%; */\n",
       "  margin-top: 1em;\n",
       "  margin-bottom: 1em;\n",
       "}\n",
       "#h2o-table-3 .h2o-table caption {\n",
       "  white-space: nowrap;\n",
       "  caption-side: top;\n",
       "  text-align: left;\n",
       "  /* margin-left: 1em; */\n",
       "  margin: 0;\n",
       "  font-size: larger;\n",
       "}\n",
       "#h2o-table-3 .h2o-table thead {\n",
       "  white-space: nowrap; \n",
       "  position: sticky;\n",
       "  top: 0;\n",
       "  box-shadow: 0 -1px inset;\n",
       "}\n",
       "#h2o-table-3 .h2o-table tbody {\n",
       "  overflow: auto;\n",
       "}\n",
       "#h2o-table-3 .h2o-table th,\n",
       "#h2o-table-3 .h2o-table td {\n",
       "  text-align: right;\n",
       "  /* border: 1px solid; */\n",
       "}\n",
       "#h2o-table-3 .h2o-table tr:nth-child(even) {\n",
       "  /* background: #F5F5F5 */\n",
       "}\n",
       "\n",
       "</style>      \n",
       "<div id=\"h2o-table-3\" class=\"h2o-container\">\n",
       "  <table class=\"h2o-table\">\n",
       "    <caption>Confusion Matrix: Row labels: Actual class; Column labels: Predicted class</caption>\n",
       "    <thead><tr><th>Category</th>\n",
       "<th>ham</th>\n",
       "<th>spam</th>\n",
       "<th>Error</th>\n",
       "<th>Rate</th></tr></thead>\n",
       "    <tbody><tr><td>0.0</td>\n",
       "<td>1.0</td>\n",
       "<td>0.0</td>\n",
       "<td>1.0</td>\n",
       "<td>1 / 1</td></tr>\n",
       "<tr><td>0.0</td>\n",
       "<td>3762.0</td>\n",
       "<td>3.0</td>\n",
       "<td>0.0007968</td>\n",
       "<td>3 / 3,765</td></tr>\n",
       "<tr><td>0.0</td>\n",
       "<td>10.0</td>\n",
       "<td>581.0</td>\n",
       "<td>0.0169205</td>\n",
       "<td>10 / 591</td></tr>\n",
       "<tr><td>0.0</td>\n",
       "<td>3773.0</td>\n",
       "<td>584.0</td>\n",
       "<td>0.0032132</td>\n",
       "<td>14 / 4,357</td></tr></tbody>\n",
       "  </table>\n",
       "</div>\n",
       "</div>\n",
       "<div style='margin: 1em 0 1em 0;'>\n",
       "<style>\n",
       "\n",
       "#h2o-table-4.h2o-container {\n",
       "  overflow-x: auto;\n",
       "}\n",
       "#h2o-table-4 .h2o-table {\n",
       "  /* width: 100%; */\n",
       "  margin-top: 1em;\n",
       "  margin-bottom: 1em;\n",
       "}\n",
       "#h2o-table-4 .h2o-table caption {\n",
       "  white-space: nowrap;\n",
       "  caption-side: top;\n",
       "  text-align: left;\n",
       "  /* margin-left: 1em; */\n",
       "  margin: 0;\n",
       "  font-size: larger;\n",
       "}\n",
       "#h2o-table-4 .h2o-table thead {\n",
       "  white-space: nowrap; \n",
       "  position: sticky;\n",
       "  top: 0;\n",
       "  box-shadow: 0 -1px inset;\n",
       "}\n",
       "#h2o-table-4 .h2o-table tbody {\n",
       "  overflow: auto;\n",
       "}\n",
       "#h2o-table-4 .h2o-table th,\n",
       "#h2o-table-4 .h2o-table td {\n",
       "  text-align: right;\n",
       "  /* border: 1px solid; */\n",
       "}\n",
       "#h2o-table-4 .h2o-table tr:nth-child(even) {\n",
       "  /* background: #F5F5F5 */\n",
       "}\n",
       "\n",
       "</style>      \n",
       "<div id=\"h2o-table-4\" class=\"h2o-container\">\n",
       "  <table class=\"h2o-table\">\n",
       "    <caption>Top-3 Hit Ratios: </caption>\n",
       "    <thead><tr><th>k</th>\n",
       "<th>hit_ratio</th></tr></thead>\n",
       "    <tbody><tr><td>1</td>\n",
       "<td>0.9967868</td></tr>\n",
       "<tr><td>2</td>\n",
       "<td>0.9997705</td></tr>\n",
       "<tr><td>3</td>\n",
       "<td>1.0</td></tr></tbody>\n",
       "  </table>\n",
       "</div>\n",
       "</div></div>\n",
       "<div style='margin: 1em 0 1em 0;'><pre style='margin: 1em 0 1em 0;'>ModelMetricsMultinomialGLM: stackedensemble\n",
       "** Reported on cross-validation data. **\n",
       "\n",
       "MSE: 0.016303144378353254\n",
       "RMSE: 0.12768376709023452\n",
       "LogLoss: 0.06934304181190803\n",
       "Null degrees of freedom: 4356\n",
       "Residual degrees of freedom: 4343\n",
       "Null deviance: Infinity\n",
       "Residual deviance: 604.2552663489672\n",
       "AUC table was not computed: it is either disabled (model parameter 'auc_type' was set to AUTO or NONE) or the domain size exceeds the limit (maximum is 50 domains).\n",
       "AUCPR table was not computed: it is either disabled (model parameter 'auc_type' was set to AUTO or NONE) or the domain size exceeds the limit (maximum is 50 domains).</pre>\n",
       "<div style='margin: 1em 0 1em 0;'>\n",
       "<style>\n",
       "\n",
       "#h2o-table-5.h2o-container {\n",
       "  overflow-x: auto;\n",
       "}\n",
       "#h2o-table-5 .h2o-table {\n",
       "  /* width: 100%; */\n",
       "  margin-top: 1em;\n",
       "  margin-bottom: 1em;\n",
       "}\n",
       "#h2o-table-5 .h2o-table caption {\n",
       "  white-space: nowrap;\n",
       "  caption-side: top;\n",
       "  text-align: left;\n",
       "  /* margin-left: 1em; */\n",
       "  margin: 0;\n",
       "  font-size: larger;\n",
       "}\n",
       "#h2o-table-5 .h2o-table thead {\n",
       "  white-space: nowrap; \n",
       "  position: sticky;\n",
       "  top: 0;\n",
       "  box-shadow: 0 -1px inset;\n",
       "}\n",
       "#h2o-table-5 .h2o-table tbody {\n",
       "  overflow: auto;\n",
       "}\n",
       "#h2o-table-5 .h2o-table th,\n",
       "#h2o-table-5 .h2o-table td {\n",
       "  text-align: right;\n",
       "  /* border: 1px solid; */\n",
       "}\n",
       "#h2o-table-5 .h2o-table tr:nth-child(even) {\n",
       "  /* background: #F5F5F5 */\n",
       "}\n",
       "\n",
       "</style>      \n",
       "<div id=\"h2o-table-5\" class=\"h2o-container\">\n",
       "  <table class=\"h2o-table\">\n",
       "    <caption>Confusion Matrix: Row labels: Actual class; Column labels: Predicted class</caption>\n",
       "    <thead><tr><th>Category</th>\n",
       "<th>ham</th>\n",
       "<th>spam</th>\n",
       "<th>Error</th>\n",
       "<th>Rate</th></tr></thead>\n",
       "    <tbody><tr><td>0.0</td>\n",
       "<td>1.0</td>\n",
       "<td>0.0</td>\n",
       "<td>1.0</td>\n",
       "<td>1 / 1</td></tr>\n",
       "<tr><td>0.0</td>\n",
       "<td>3731.0</td>\n",
       "<td>34.0</td>\n",
       "<td>0.0090305</td>\n",
       "<td>34 / 3,765</td></tr>\n",
       "<tr><td>0.0</td>\n",
       "<td>48.0</td>\n",
       "<td>543.0</td>\n",
       "<td>0.0812183</td>\n",
       "<td>48 / 591</td></tr>\n",
       "<tr><td>0.0</td>\n",
       "<td>3780.0</td>\n",
       "<td>577.0</td>\n",
       "<td>0.0190498</td>\n",
       "<td>83 / 4,357</td></tr></tbody>\n",
       "  </table>\n",
       "</div>\n",
       "</div>\n",
       "<div style='margin: 1em 0 1em 0;'>\n",
       "<style>\n",
       "\n",
       "#h2o-table-6.h2o-container {\n",
       "  overflow-x: auto;\n",
       "}\n",
       "#h2o-table-6 .h2o-table {\n",
       "  /* width: 100%; */\n",
       "  margin-top: 1em;\n",
       "  margin-bottom: 1em;\n",
       "}\n",
       "#h2o-table-6 .h2o-table caption {\n",
       "  white-space: nowrap;\n",
       "  caption-side: top;\n",
       "  text-align: left;\n",
       "  /* margin-left: 1em; */\n",
       "  margin: 0;\n",
       "  font-size: larger;\n",
       "}\n",
       "#h2o-table-6 .h2o-table thead {\n",
       "  white-space: nowrap; \n",
       "  position: sticky;\n",
       "  top: 0;\n",
       "  box-shadow: 0 -1px inset;\n",
       "}\n",
       "#h2o-table-6 .h2o-table tbody {\n",
       "  overflow: auto;\n",
       "}\n",
       "#h2o-table-6 .h2o-table th,\n",
       "#h2o-table-6 .h2o-table td {\n",
       "  text-align: right;\n",
       "  /* border: 1px solid; */\n",
       "}\n",
       "#h2o-table-6 .h2o-table tr:nth-child(even) {\n",
       "  /* background: #F5F5F5 */\n",
       "}\n",
       "\n",
       "</style>      \n",
       "<div id=\"h2o-table-6\" class=\"h2o-container\">\n",
       "  <table class=\"h2o-table\">\n",
       "    <caption>Top-3 Hit Ratios: </caption>\n",
       "    <thead><tr><th>k</th>\n",
       "<th>hit_ratio</th></tr></thead>\n",
       "    <tbody><tr><td>1</td>\n",
       "<td>0.9809502</td></tr>\n",
       "<tr><td>2</td>\n",
       "<td>0.9997705</td></tr>\n",
       "<tr><td>3</td>\n",
       "<td>1.0</td></tr></tbody>\n",
       "  </table>\n",
       "</div>\n",
       "</div></div>\n",
       "<div style='margin: 1em 0 1em 0;'>\n",
       "<style>\n",
       "\n",
       "#h2o-table-7.h2o-container {\n",
       "  overflow-x: auto;\n",
       "}\n",
       "#h2o-table-7 .h2o-table {\n",
       "  /* width: 100%; */\n",
       "  margin-top: 1em;\n",
       "  margin-bottom: 1em;\n",
       "}\n",
       "#h2o-table-7 .h2o-table caption {\n",
       "  white-space: nowrap;\n",
       "  caption-side: top;\n",
       "  text-align: left;\n",
       "  /* margin-left: 1em; */\n",
       "  margin: 0;\n",
       "  font-size: larger;\n",
       "}\n",
       "#h2o-table-7 .h2o-table thead {\n",
       "  white-space: nowrap; \n",
       "  position: sticky;\n",
       "  top: 0;\n",
       "  box-shadow: 0 -1px inset;\n",
       "}\n",
       "#h2o-table-7 .h2o-table tbody {\n",
       "  overflow: auto;\n",
       "}\n",
       "#h2o-table-7 .h2o-table th,\n",
       "#h2o-table-7 .h2o-table td {\n",
       "  text-align: right;\n",
       "  /* border: 1px solid; */\n",
       "}\n",
       "#h2o-table-7 .h2o-table tr:nth-child(even) {\n",
       "  /* background: #F5F5F5 */\n",
       "}\n",
       "\n",
       "</style>      \n",
       "<div id=\"h2o-table-7\" class=\"h2o-container\">\n",
       "  <table class=\"h2o-table\">\n",
       "    <caption>Cross-Validation Metrics Summary: </caption>\n",
       "    <thead><tr><th></th>\n",
       "<th>mean</th>\n",
       "<th>sd</th>\n",
       "<th>cv_1_valid</th>\n",
       "<th>cv_2_valid</th>\n",
       "<th>cv_3_valid</th>\n",
       "<th>cv_4_valid</th>\n",
       "<th>cv_5_valid</th></tr></thead>\n",
       "    <tbody><tr><td>accuracy</td>\n",
       "<td>0.9817561</td>\n",
       "<td>0.0071328</td>\n",
       "<td>0.9721913</td>\n",
       "<td>0.9778516</td>\n",
       "<td>0.9825784</td>\n",
       "<td>0.9909194</td>\n",
       "<td>0.9852399</td></tr>\n",
       "<tr><td>auc</td>\n",
       "<td>nan</td>\n",
       "<td>0.0</td>\n",
       "<td>nan</td>\n",
       "<td>nan</td>\n",
       "<td>nan</td>\n",
       "<td>nan</td>\n",
       "<td>nan</td></tr>\n",
       "<tr><td>err</td>\n",
       "<td>0.0182439</td>\n",
       "<td>0.0071328</td>\n",
       "<td>0.0278087</td>\n",
       "<td>0.0221484</td>\n",
       "<td>0.0174216</td>\n",
       "<td>0.0090806</td>\n",
       "<td>0.0147601</td></tr>\n",
       "<tr><td>err_count</td>\n",
       "<td>16.0</td>\n",
       "<td>6.670832</td>\n",
       "<td>25.0</td>\n",
       "<td>20.0</td>\n",
       "<td>15.0</td>\n",
       "<td>8.0</td>\n",
       "<td>12.0</td></tr>\n",
       "<tr><td>logloss</td>\n",
       "<td>0.0661531</td>\n",
       "<td>0.0245667</td>\n",
       "<td>0.1046834</td>\n",
       "<td>0.0730226</td>\n",
       "<td>0.0613729</td>\n",
       "<td>0.0416904</td>\n",
       "<td>0.0499963</td></tr>\n",
       "<tr><td>max_per_class_error</td>\n",
       "<td>0.2605058</td>\n",
       "<td>0.4140863</td>\n",
       "<td>1.0</td>\n",
       "<td>0.1</td>\n",
       "<td>0.0884956</td>\n",
       "<td>0.0363636</td>\n",
       "<td>0.0776699</td></tr>\n",
       "<tr><td>mean_per_class_accuracy</td>\n",
       "<td>0.9040130</td>\n",
       "<td>0.1535410</td>\n",
       "<td>0.6297623</td>\n",
       "<td>0.9636481</td>\n",
       "<td>0.9682733</td>\n",
       "<td>0.9861494</td>\n",
       "<td>0.9722321</td></tr>\n",
       "<tr><td>mean_per_class_error</td>\n",
       "<td>0.0959870</td>\n",
       "<td>0.1535410</td>\n",
       "<td>0.3702377</td>\n",
       "<td>0.0363519</td>\n",
       "<td>0.0317267</td>\n",
       "<td>0.0138506</td>\n",
       "<td>0.0277679</td></tr>\n",
       "<tr><td>mse</td>\n",
       "<td>0.0159265</td>\n",
       "<td>0.0052294</td>\n",
       "<td>0.0238553</td>\n",
       "<td>0.0179259</td>\n",
       "<td>0.0149530</td>\n",
       "<td>0.0105878</td>\n",
       "<td>0.0123106</td></tr>\n",
       "<tr><td>null_deviance</td>\n",
       "<td>inf</td>\n",
       "<td>nan</td>\n",
       "<td>inf</td>\n",
       "<td>745.603</td>\n",
       "<td>670.13196</td>\n",
       "<td>665.28674</td>\n",
       "<td>619.2719</td></tr>\n",
       "<tr><td>pr_auc</td>\n",
       "<td>nan</td>\n",
       "<td>0.0</td>\n",
       "<td>nan</td>\n",
       "<td>nan</td>\n",
       "<td>nan</td>\n",
       "<td>nan</td>\n",
       "<td>nan</td></tr>\n",
       "<tr><td>r2</td>\n",
       "<td>0.8660796</td>\n",
       "<td>0.0339746</td>\n",
       "<td>0.8151642</td>\n",
       "<td>0.8545433</td>\n",
       "<td>0.8688543</td>\n",
       "<td>0.9031033</td>\n",
       "<td>0.8887330</td></tr>\n",
       "<tr><td>residual_deviance</td>\n",
       "<td>116.10721</td>\n",
       "<td>46.337402</td>\n",
       "<td>188.22067</td>\n",
       "<td>131.87889</td>\n",
       "<td>105.68405</td>\n",
       "<td>73.45842</td>\n",
       "<td>81.29399</td></tr>\n",
       "<tr><td>rmse</td>\n",
       "<td>0.1248944</td>\n",
       "<td>0.0202458</td>\n",
       "<td>0.1544515</td>\n",
       "<td>0.1338876</td>\n",
       "<td>0.1222824</td>\n",
       "<td>0.1028968</td>\n",
       "<td>0.1109534</td></tr></tbody>\n",
       "  </table>\n",
       "</div>\n",
       "</div><pre style=\"font-size: smaller; margin: 1em 0 0 0;\">\n",
       "\n",
       "[tips]\n",
       "Use `model.explain()` to inspect the model.\n",
       "--\n",
       "Use `h2o.display.toggle_user_tips()` to switch on/off this section.</pre>"
      ],
      "text/plain": [
       "Model Details\n",
       "=============\n",
       "H2OStackedEnsembleEstimator : Stacked Ensemble\n",
       "Model Key: StackedEnsemble_BestOfFamily_1_AutoML_1_20231219_115900\n",
       "\n",
       "\n",
       "Model Summary for Stacked Ensemble: \n",
       "key                                        value\n",
       "-----------------------------------------  ----------------\n",
       "Stacking strategy                          cross_validation\n",
       "Number of base models (used / total)       3/4\n",
       "# GBM base models (used / total)           1/1\n",
       "# DeepLearning base models (used / total)  1/1\n",
       "# DRF base models (used / total)           1/2\n",
       "Metalearner algorithm                      GLM\n",
       "Metalearner fold assignment scheme         Random\n",
       "Metalearner nfolds                         5\n",
       "Metalearner fold_column\n",
       "Custom metalearner hyperparameters         None\n",
       "\n",
       "ModelMetricsMultinomialGLM: stackedensemble\n",
       "** Reported on train data. **\n",
       "\n",
       "MSE: 0.004134971431624869\n",
       "RMSE: 0.06430374352730071\n",
       "LogLoss: 0.025321141844064844\n",
       "Null degrees of freedom: 4356\n",
       "Residual degrees of freedom: 4345\n",
       "Null deviance: 3477.7178950514162\n",
       "Residual deviance: 220.64843002918133\n",
       "AUC table was not computed: it is either disabled (model parameter 'auc_type' was set to AUTO or NONE) or the domain size exceeds the limit (maximum is 50 domains).\n",
       "AUCPR table was not computed: it is either disabled (model parameter 'auc_type' was set to AUTO or NONE) or the domain size exceeds the limit (maximum is 50 domains).\n",
       "\n",
       "Confusion Matrix: Row labels: Actual class; Column labels: Predicted class\n",
       "Category    ham    spam    Error        Rate\n",
       "----------  -----  ------  -----------  ----------\n",
       "0           1      0       1            1 / 1\n",
       "0           3762   3       0.000796813  3 / 3,765\n",
       "0           10     581     0.0169205    10 / 591\n",
       "0           3773   584     0.00321322   14 / 4,357\n",
       "\n",
       "Top-3 Hit Ratios: \n",
       "k    hit_ratio\n",
       "---  -----------\n",
       "1    0.996787\n",
       "2    0.99977\n",
       "3    1\n",
       "\n",
       "ModelMetricsMultinomialGLM: stackedensemble\n",
       "** Reported on cross-validation data. **\n",
       "\n",
       "MSE: 0.016303144378353254\n",
       "RMSE: 0.12768376709023452\n",
       "LogLoss: 0.06934304181190803\n",
       "Null degrees of freedom: 4356\n",
       "Residual degrees of freedom: 4343\n",
       "Null deviance: Infinity\n",
       "Residual deviance: 604.2552663489672\n",
       "AUC table was not computed: it is either disabled (model parameter 'auc_type' was set to AUTO or NONE) or the domain size exceeds the limit (maximum is 50 domains).\n",
       "AUCPR table was not computed: it is either disabled (model parameter 'auc_type' was set to AUTO or NONE) or the domain size exceeds the limit (maximum is 50 domains).\n",
       "\n",
       "Confusion Matrix: Row labels: Actual class; Column labels: Predicted class\n",
       "Category    ham    spam    Error       Rate\n",
       "----------  -----  ------  ----------  ----------\n",
       "0           1      0       1           1 / 1\n",
       "0           3731   34      0.00903054  34 / 3,765\n",
       "0           48     543     0.0812183   48 / 591\n",
       "0           3780   577     0.0190498   83 / 4,357\n",
       "\n",
       "Top-3 Hit Ratios: \n",
       "k    hit_ratio\n",
       "---  -----------\n",
       "1    0.98095\n",
       "2    0.99977\n",
       "3    1\n",
       "\n",
       "Cross-Validation Metrics Summary: \n",
       "                         mean       sd          cv_1_valid    cv_2_valid    cv_3_valid    cv_4_valid    cv_5_valid\n",
       "-----------------------  ---------  ----------  ------------  ------------  ------------  ------------  ------------\n",
       "accuracy                 0.981756   0.00713283  0.972191      0.977852      0.982578      0.990919      0.98524\n",
       "auc                      nan        0           nan           nan           nan           nan           nan\n",
       "err                      0.0182439  0.00713283  0.0278087     0.0221484     0.0174216     0.00908059    0.0147601\n",
       "err_count                16         6.67083     25            20            15            8             12\n",
       "logloss                  0.0661531  0.0245667   0.104683      0.0730226     0.0613729     0.0416904     0.0499963\n",
       "max_per_class_error      0.260506   0.414086    1             0.1           0.0884956     0.0363636     0.0776699\n",
       "mean_per_class_accuracy  0.904013   0.153541    0.629762      0.963648      0.968273      0.986149      0.972232\n",
       "mean_per_class_error     0.095987   0.153541    0.370238      0.0363519     0.0317267     0.0138506     0.0277679\n",
       "mse                      0.0159265  0.00522942  0.0238553     0.0179259     0.014953      0.0105878     0.0123106\n",
       "null_deviance            inf        nan         inf           745.603       670.132       665.287       619.272\n",
       "pr_auc                   nan        0           nan           nan           nan           nan           nan\n",
       "r2                       0.86608    0.0339746   0.815164      0.854543      0.868854      0.903103      0.888733\n",
       "residual_deviance        116.107    46.3374     188.221       131.879       105.684       73.4584       81.294\n",
       "rmse                     0.124894   0.0202458   0.154451      0.133888      0.122282      0.102897      0.110953\n",
       "\n",
       "[tips]\n",
       "Use `model.explain()` to inspect the model.\n",
       "--\n",
       "Use `h2o.display.toggle_user_tips()` to switch on/off this section."
      ]
     },
     "execution_count": 20,
     "metadata": {},
     "output_type": "execute_result"
    }
   ],
   "source": [
    "aml = H2OAutoML(max_models = 10, max_runtime_secs=1000, seed = 1)\n",
    "\n",
    "aml.train(x = vecs.names,\n",
    "                y=\"category\", \n",
    "                training_frame = data_split[0])"
   ]
  },
  {
   "cell_type": "code",
   "execution_count": 21,
   "id": "4763c322",
   "metadata": {},
   "outputs": [
    {
     "data": {
      "text/html": [
       "<table class='dataframe'>\n",
       "<thead>\n",
       "<tr><th>model_id                                               </th><th style=\"text-align: right;\">  mean_per_class_error</th><th style=\"text-align: right;\">  logloss</th><th style=\"text-align: right;\">    rmse</th><th style=\"text-align: right;\">      mse</th></tr>\n",
       "</thead>\n",
       "<tbody>\n",
       "<tr><td>StackedEnsemble_BestOfFamily_1_AutoML_1_20231219_115900</td><td style=\"text-align: right;\">              0.363416</td><td style=\"text-align: right;\">0.069343 </td><td style=\"text-align: right;\">0.127684</td><td style=\"text-align: right;\">0.0163031</td></tr>\n",
       "<tr><td>GBM_1_AutoML_1_20231219_115900                         </td><td style=\"text-align: right;\">              0.36523 </td><td style=\"text-align: right;\">0.0715519</td><td style=\"text-align: right;\">0.127646</td><td style=\"text-align: right;\">0.0162935</td></tr>\n",
       "<tr><td>StackedEnsemble_AllModels_1_AutoML_1_20231219_115900   </td><td style=\"text-align: right;\">              0.365318</td><td style=\"text-align: right;\">0.0660679</td><td style=\"text-align: right;\">0.126415</td><td style=\"text-align: right;\">0.0159807</td></tr>\n",
       "<tr><td>DeepLearning_1_AutoML_1_20231219_115900                </td><td style=\"text-align: right;\">              0.366105</td><td style=\"text-align: right;\">0.0901037</td><td style=\"text-align: right;\">0.140055</td><td style=\"text-align: right;\">0.0196153</td></tr>\n",
       "<tr><td>GBM_2_AutoML_1_20231219_115900                         </td><td style=\"text-align: right;\">              0.366535</td><td style=\"text-align: right;\">0.0806349</td><td style=\"text-align: right;\">0.132314</td><td style=\"text-align: right;\">0.0175069</td></tr>\n",
       "<tr><td>GBM_4_AutoML_1_20231219_115900                         </td><td style=\"text-align: right;\">              0.36701 </td><td style=\"text-align: right;\">0.0836708</td><td style=\"text-align: right;\">0.132347</td><td style=\"text-align: right;\">0.0175157</td></tr>\n",
       "<tr><td>DeepLearning_grid_1_AutoML_1_20231219_115900_model_1   </td><td style=\"text-align: right;\">              0.367023</td><td style=\"text-align: right;\">0.149884 </td><td style=\"text-align: right;\">0.14794 </td><td style=\"text-align: right;\">0.0218864</td></tr>\n",
       "<tr><td>GBM_3_AutoML_1_20231219_115900                         </td><td style=\"text-align: right;\">              0.367099</td><td style=\"text-align: right;\">0.0821754</td><td style=\"text-align: right;\">0.132415</td><td style=\"text-align: right;\">0.0175336</td></tr>\n",
       "<tr><td>GBM_5_AutoML_1_20231219_115900                         </td><td style=\"text-align: right;\">              0.367928</td><td style=\"text-align: right;\">0.0808798</td><td style=\"text-align: right;\">0.13308 </td><td style=\"text-align: right;\">0.0177102</td></tr>\n",
       "<tr><td>GBM_grid_1_AutoML_1_20231219_115900_model_1            </td><td style=\"text-align: right;\">              0.368138</td><td style=\"text-align: right;\">0.0808441</td><td style=\"text-align: right;\">0.132012</td><td style=\"text-align: right;\">0.0174272</td></tr>\n",
       "</tbody>\n",
       "</table><pre style='font-size: smaller; margin-bottom: 1em;'>[10 rows x 5 columns]</pre>"
      ],
      "text/plain": [
       "model_id                                                   mean_per_class_error    logloss      rmse        mse\n",
       "-------------------------------------------------------  ----------------------  ---------  --------  ---------\n",
       "StackedEnsemble_BestOfFamily_1_AutoML_1_20231219_115900                0.363416  0.069343   0.127684  0.0163031\n",
       "GBM_1_AutoML_1_20231219_115900                                         0.36523   0.0715519  0.127646  0.0162935\n",
       "StackedEnsemble_AllModels_1_AutoML_1_20231219_115900                   0.365318  0.0660679  0.126415  0.0159807\n",
       "DeepLearning_1_AutoML_1_20231219_115900                                0.366105  0.0901037  0.140055  0.0196153\n",
       "GBM_2_AutoML_1_20231219_115900                                         0.366535  0.0806349  0.132314  0.0175069\n",
       "GBM_4_AutoML_1_20231219_115900                                         0.36701   0.0836708  0.132347  0.0175157\n",
       "DeepLearning_grid_1_AutoML_1_20231219_115900_model_1                   0.367023  0.149884   0.14794   0.0218864\n",
       "GBM_3_AutoML_1_20231219_115900                                         0.367099  0.0821754  0.132415  0.0175336\n",
       "GBM_5_AutoML_1_20231219_115900                                         0.367928  0.0808798  0.13308   0.0177102\n",
       "GBM_grid_1_AutoML_1_20231219_115900_model_1                            0.368138  0.0808441  0.132012  0.0174272\n",
       "[10 rows x 5 columns]\n"
      ]
     },
     "execution_count": 21,
     "metadata": {},
     "output_type": "execute_result"
    }
   ],
   "source": [
    "leader = aml.leaderboard\n",
    "\n",
    "leader.head()"
   ]
  },
  {
   "cell_type": "code",
   "execution_count": 22,
   "id": "3430aa69",
   "metadata": {},
   "outputs": [
    {
     "data": {
      "text/html": [
       "<table class='dataframe'>\n",
       "<thead>\n",
       "<tr><th>model_id                                               </th><th style=\"text-align: right;\">  mean_per_class_error</th><th style=\"text-align: right;\">  logloss</th><th style=\"text-align: right;\">    rmse</th><th style=\"text-align: right;\">      mse</th></tr>\n",
       "</thead>\n",
       "<tbody>\n",
       "<tr><td>StackedEnsemble_BestOfFamily_1_AutoML_1_20231219_115900</td><td style=\"text-align: right;\">              0.363416</td><td style=\"text-align: right;\">0.069343 </td><td style=\"text-align: right;\">0.127684</td><td style=\"text-align: right;\">0.0163031</td></tr>\n",
       "<tr><td>GBM_1_AutoML_1_20231219_115900                         </td><td style=\"text-align: right;\">              0.36523 </td><td style=\"text-align: right;\">0.0715519</td><td style=\"text-align: right;\">0.127646</td><td style=\"text-align: right;\">0.0162935</td></tr>\n",
       "<tr><td>StackedEnsemble_AllModels_1_AutoML_1_20231219_115900   </td><td style=\"text-align: right;\">              0.365318</td><td style=\"text-align: right;\">0.0660679</td><td style=\"text-align: right;\">0.126415</td><td style=\"text-align: right;\">0.0159807</td></tr>\n",
       "<tr><td>DeepLearning_1_AutoML_1_20231219_115900                </td><td style=\"text-align: right;\">              0.366105</td><td style=\"text-align: right;\">0.0901037</td><td style=\"text-align: right;\">0.140055</td><td style=\"text-align: right;\">0.0196153</td></tr>\n",
       "<tr><td>GBM_2_AutoML_1_20231219_115900                         </td><td style=\"text-align: right;\">              0.366535</td><td style=\"text-align: right;\">0.0806349</td><td style=\"text-align: right;\">0.132314</td><td style=\"text-align: right;\">0.0175069</td></tr>\n",
       "<tr><td>GBM_4_AutoML_1_20231219_115900                         </td><td style=\"text-align: right;\">              0.36701 </td><td style=\"text-align: right;\">0.0836708</td><td style=\"text-align: right;\">0.132347</td><td style=\"text-align: right;\">0.0175157</td></tr>\n",
       "<tr><td>DeepLearning_grid_1_AutoML_1_20231219_115900_model_1   </td><td style=\"text-align: right;\">              0.367023</td><td style=\"text-align: right;\">0.149884 </td><td style=\"text-align: right;\">0.14794 </td><td style=\"text-align: right;\">0.0218864</td></tr>\n",
       "<tr><td>GBM_3_AutoML_1_20231219_115900                         </td><td style=\"text-align: right;\">              0.367099</td><td style=\"text-align: right;\">0.0821754</td><td style=\"text-align: right;\">0.132415</td><td style=\"text-align: right;\">0.0175336</td></tr>\n",
       "<tr><td>GBM_5_AutoML_1_20231219_115900                         </td><td style=\"text-align: right;\">              0.367928</td><td style=\"text-align: right;\">0.0808798</td><td style=\"text-align: right;\">0.13308 </td><td style=\"text-align: right;\">0.0177102</td></tr>\n",
       "<tr><td>GBM_grid_1_AutoML_1_20231219_115900_model_1            </td><td style=\"text-align: right;\">              0.368138</td><td style=\"text-align: right;\">0.0808441</td><td style=\"text-align: right;\">0.132012</td><td style=\"text-align: right;\">0.0174272</td></tr>\n",
       "<tr><td>XRT_1_AutoML_1_20231219_115900                         </td><td style=\"text-align: right;\">              0.37265 </td><td style=\"text-align: right;\">0.162949 </td><td style=\"text-align: right;\">0.140386</td><td style=\"text-align: right;\">0.0197082</td></tr>\n",
       "<tr><td>DRF_1_AutoML_1_20231219_115900                         </td><td style=\"text-align: right;\">              0.373037</td><td style=\"text-align: right;\">0.142995 </td><td style=\"text-align: right;\">0.140076</td><td style=\"text-align: right;\">0.0196212</td></tr>\n",
       "</tbody>\n",
       "</table><pre style='font-size: smaller; margin-bottom: 1em;'>[12 rows x 5 columns]</pre>"
      ],
      "text/plain": [
       "model_id                                                   mean_per_class_error    logloss      rmse        mse\n",
       "-------------------------------------------------------  ----------------------  ---------  --------  ---------\n",
       "StackedEnsemble_BestOfFamily_1_AutoML_1_20231219_115900                0.363416  0.069343   0.127684  0.0163031\n",
       "GBM_1_AutoML_1_20231219_115900                                         0.36523   0.0715519  0.127646  0.0162935\n",
       "StackedEnsemble_AllModels_1_AutoML_1_20231219_115900                   0.365318  0.0660679  0.126415  0.0159807\n",
       "DeepLearning_1_AutoML_1_20231219_115900                                0.366105  0.0901037  0.140055  0.0196153\n",
       "GBM_2_AutoML_1_20231219_115900                                         0.366535  0.0806349  0.132314  0.0175069\n",
       "GBM_4_AutoML_1_20231219_115900                                         0.36701   0.0836708  0.132347  0.0175157\n",
       "DeepLearning_grid_1_AutoML_1_20231219_115900_model_1                   0.367023  0.149884   0.14794   0.0218864\n",
       "GBM_3_AutoML_1_20231219_115900                                         0.367099  0.0821754  0.132415  0.0175336\n",
       "GBM_5_AutoML_1_20231219_115900                                         0.367928  0.0808798  0.13308   0.0177102\n",
       "GBM_grid_1_AutoML_1_20231219_115900_model_1                            0.368138  0.0808441  0.132012  0.0174272\n",
       "XRT_1_AutoML_1_20231219_115900                                         0.37265   0.162949   0.140386  0.0197082\n",
       "DRF_1_AutoML_1_20231219_115900                                         0.373037  0.142995   0.140076  0.0196212\n",
       "[12 rows x 5 columns]\n"
      ]
     },
     "execution_count": 22,
     "metadata": {},
     "output_type": "execute_result"
    }
   ],
   "source": [
    "leader.head(rows=leader.nrows)"
   ]
  },
  {
   "cell_type": "code",
   "execution_count": 23,
   "id": "9df2345e",
   "metadata": {},
   "outputs": [],
   "source": [
    "db_test = data_split[1]"
   ]
  },
  {
   "cell_type": "code",
   "execution_count": 24,
   "id": "6c404358",
   "metadata": {},
   "outputs": [
    {
     "name": "stdout",
     "output_type": "stream",
     "text": [
      "stackedensemble prediction progress: |███████████████████████████████████████████| (done) 100%\n"
     ]
    },
    {
     "name": "stderr",
     "output_type": "stream",
     "text": [
      "/Users/admin/anaconda3/lib/python3.11/site-packages/h2o/job.py:81: UserWarning: Test/Validation dataset is missing column 'C100': substituting in a column of NaN\n",
      "  warnings.warn(w)\n"
     ]
    }
   ],
   "source": [
    "predictions = aml.predict(db_test[:-1])"
   ]
  },
  {
   "cell_type": "code",
   "execution_count": 25,
   "id": "a58decca",
   "metadata": {},
   "outputs": [
    {
     "data": {
      "text/plain": [
       "predict    0.986726\n",
       "dtype: float64"
      ]
     },
     "execution_count": 25,
     "metadata": {},
     "output_type": "execute_result"
    }
   ],
   "source": [
    "(predictions['predict']==db_test['category']).as_data_frame(use_pandas=True).mean()"
   ]
  },
  {
   "cell_type": "code",
   "execution_count": 28,
   "id": "7458209b",
   "metadata": {},
   "outputs": [],
   "source": [
    "import pandas as pd\n",
    "from sklearn.feature_extraction.text import CountVectorizer\n",
    "from sklearn.model_selection import train_test_split\n",
    "from nltk.tokenize import word_tokenize\n",
    "from nltk.corpus import stopwords\n",
    "import string\n",
    "from nltk.stem import PorterStemmer\n",
    "from sklearn.svm import SVC\n",
    "from sklearn.naive_bayes import MultinomialNB\n",
    "from sklearn.metrics import accuracy_score, precision_score, recall_score, f1_score, confusion_matrix\n",
    "from tabulate import tabulate\n",
    "from bayes_opt import BayesianOptimization\n",
    "from sklearn.model_selection import GridSearchCV"
   ]
  },
  {
   "cell_type": "code",
   "execution_count": 29,
   "id": "9df63c93",
   "metadata": {},
   "outputs": [
    {
     "name": "stdout",
     "output_type": "stream",
     "text": [
      "   Category                                            Message\n",
      "0         0  Go until jurong point, crazy.. Available only ...\n",
      "1         0                      Ok lar... Joking wif u oni...\n",
      "2         1  Free entry in 2 a wkly comp to win FA Cup fina...\n",
      "3         0  U dun say so early hor... U c already then say...\n",
      "4         0  Nah I don't think he goes to usf, he lives aro...\n"
     ]
    }
   ],
   "source": [
    "data = pd.read_csv('spam.csv')\n",
    "data['Category'] = data['Category'].map({'ham': 0, 'spam': 1})\n",
    "\n",
    "print(data.head())"
   ]
  },
  {
   "cell_type": "code",
   "execution_count": 32,
   "id": "8a550f23",
   "metadata": {},
   "outputs": [],
   "source": [
    "def clean_text(text):\n",
    "    # Removing punctuation marks\n",
    "    text = ''.join([char for char in text if char not in string.punctuation])\n",
    "\n",
    "    # Convert text to lowercase\n",
    "    text = text.lower()\n",
    "\n",
    "    return text\n",
    "\n",
    "\n",
    "data['Cleaned_Message'] = data['Message'].apply(clean_text)\n",
    "\n",
    "# Separating features and targets\n",
    "X = data['Cleaned_Message']\n",
    "y = data['Category']\n",
    "\n",
    "# Split the data into train and test sets\n",
    "X_train, X_test, y_train, y_test = train_test_split(\n",
    "    X, y, test_size=0.2, random_state=42)\n",
    "\n",
    "\n",
    "def preprocess_text(text):\n",
    "    # Tokenize the text into individual words\n",
    "    words = word_tokenize(text)\n",
    "\n",
    "    # Remove stopwords\n",
    "    stop_words = set(stopwords.words('english'))\n",
    "    words = [word for word in words if word.lower() not in stop_words]\n",
    "\n",
    "    # Perform stemming\n",
    "    stemmer = PorterStemmer()\n",
    "    stemmed_words = [stemmer.stem(word) for word in words]\n",
    "\n",
    "    # Join the stemmed words back into a single string\n",
    "    processed_text = ' '.join(stemmed_words)\n",
    "\n",
    "    return processed_text\n",
    "\n",
    "# Text pre-processing in the \"Message\" column after splitting\n",
    "X_train_processed = X_train.apply(preprocess_text)\n",
    "X_test_processed = X_test.apply(preprocess_text)\n",
    "\n",
    "# Using CountVectorizer\n",
    "vectorizer = CountVectorizer()\n",
    "X_train_vectorized = vectorizer.fit_transform(X_train_processed)\n",
    "X_test_vectorized = vectorizer.transform(X_test_processed)"
   ]
  },
  {
   "cell_type": "code",
   "execution_count": 31,
   "id": "51eb11ef",
   "metadata": {},
   "outputs": [
    {
     "name": "stderr",
     "output_type": "stream",
     "text": [
      "[nltk_data] Downloading package punkt to /Users/admin/nltk_data...\n",
      "[nltk_data]   Unzipping tokenizers/punkt.zip.\n"
     ]
    },
    {
     "data": {
      "text/plain": [
       "True"
      ]
     },
     "execution_count": 31,
     "metadata": {},
     "output_type": "execute_result"
    }
   ],
   "source": [
    "import nltk\n",
    "nltk.download('punkt')\n"
   ]
  },
  {
   "cell_type": "code",
   "execution_count": 33,
   "id": "ecdd48c8",
   "metadata": {},
   "outputs": [
    {
     "name": "stdout",
     "output_type": "stream",
     "text": [
      "╒══════════════════════════════╤════════════╤═════════════╤══════════╤════════════╤═══════════════╕\n",
      "│ Model                        │ Accuracy   │ Precision   │ Recall   │ F1 Score   │ Specificity   │\n",
      "╞══════════════════════════════╪════════════╪═════════════╪══════════╪════════════╪═══════════════╡\n",
      "│ Support Vector Machine (SVM) │ 98.4753%   │ 99.2537%    │ 89.2617% │ 93.9929%   │ 99.8965%      │\n",
      "├──────────────────────────────┼────────────┼─────────────┼──────────┼────────────┼───────────────┤\n",
      "│ Naive Bayes                  │ 98.3857%   │ 97.1223%    │ 90.6040% │ 93.7500%   │ 99.5859%      │\n",
      "╘══════════════════════════════╧════════════╧═════════════╧══════════╧════════════╧═══════════════╛\n"
     ]
    }
   ],
   "source": [
    "svm_model = SVC(kernel='linear', random_state=42)\n",
    "svm_model.fit(X_train_vectorized, y_train)\n",
    "svm_pred = svm_model.predict(X_test_vectorized)\n",
    "\n",
    "# Naive Bayes\n",
    "nb_model = MultinomialNB()\n",
    "nb_model.fit(X_train_vectorized, y_train)\n",
    "nb_pred = nb_model.predict(X_test_vectorized)\n",
    "\n",
    "# Support Vector Machine (SVM)\n",
    "svm_accuracy = accuracy_score(y_test, svm_pred)\n",
    "svm_precision = precision_score(y_test, svm_pred)\n",
    "svm_recall = recall_score(y_test, svm_pred)\n",
    "svm_f1 = f1_score(y_test, svm_pred)\n",
    "tn, fp, fn, tp = confusion_matrix(y_test, svm_pred).ravel()\n",
    "svm_specificity = tn / (tn + fp)\n",
    "\n",
    "# Naive Bayes\n",
    "nb_accuracy = accuracy_score(y_test, nb_pred)\n",
    "nb_precision = precision_score(y_test, nb_pred)\n",
    "nb_recall = recall_score(y_test, nb_pred)\n",
    "nb_f1 = f1_score(y_test, nb_pred)\n",
    "tn, fp, fn, tp = confusion_matrix(y_test, nb_pred).ravel()\n",
    "nb_specificity = tn / (tn + fp)\n",
    "\n",
    "data = [\n",
    "    [\"Support Vector Machine (SVM)\", \"{:.4f}%\".format(svm_accuracy * 100), \"{:.4f}%\".format(\n",
    "        svm_precision * 100), \"{:.4f}%\".format(svm_recall * 100), \"{:.4f}%\".format(svm_f1 * 100), \"{:.4f}%\".format(svm_specificity * 100)],\n",
    "    [\"Naive Bayes\", \"{:.4f}%\".format(nb_accuracy * 100), \"{:.4f}%\".format(\n",
    "        nb_precision * 100), \"{:.4f}%\".format(nb_recall * 100), \"{:.4f}%\".format(nb_f1 * 100), \"{:.4f}%\".format(nb_specificity * 100)],\n",
    "]\n",
    "\n",
    "# Menentukan header tabel\n",
    "headers = [\"Model\", \"Accuracy\", \"Precision\", \"Recall\", \"F1 Score\", \"Specificity\"]\n",
    "\n",
    "# Mencetak tabel evaluasi\n",
    "table = tabulate(data, headers, tablefmt=\"fancy_grid\")\n",
    "print(table)"
   ]
  },
  {
   "cell_type": "code",
   "execution_count": 34,
   "id": "9a2946de",
   "metadata": {},
   "outputs": [
    {
     "name": "stdout",
     "output_type": "stream",
     "text": [
      "|   iter    |  target   |     C     |   gamma   |  kernel   |\n",
      "-------------------------------------------------------------\n",
      "| \u001b[0m1        \u001b[0m | \u001b[0m0.9058   \u001b[0m | \u001b[0m3.752    \u001b[0m | \u001b[0m0.9508   \u001b[0m | \u001b[0m0.732    \u001b[0m |\n",
      "| \u001b[95m2        \u001b[0m | \u001b[95m0.9659   \u001b[0m | \u001b[95m5.991    \u001b[0m | \u001b[95m0.1569   \u001b[0m | \u001b[95m0.156    \u001b[0m |\n",
      "| \u001b[0m3        \u001b[0m | \u001b[0m0.8744   \u001b[0m | \u001b[0m0.5903   \u001b[0m | \u001b[0m0.8663   \u001b[0m | \u001b[0m0.6011   \u001b[0m |\n",
      "| \u001b[95m4        \u001b[0m | \u001b[95m0.983    \u001b[0m | \u001b[95m7.084    \u001b[0m | \u001b[95m0.02156  \u001b[0m | \u001b[95m0.9699   \u001b[0m |\n",
      "| \u001b[0m5        \u001b[0m | \u001b[0m0.9525   \u001b[0m | \u001b[0m8.326    \u001b[0m | \u001b[0m0.2131   \u001b[0m | \u001b[0m0.1818   \u001b[0m |\n",
      "| \u001b[0m6        \u001b[0m | \u001b[0m0.9049   \u001b[0m | \u001b[0m6.88     \u001b[0m | \u001b[0m1.0      \u001b[0m | \u001b[0m1.0      \u001b[0m |\n",
      "| \u001b[0m7        \u001b[0m | \u001b[0m0.983    \u001b[0m | \u001b[0m7.112    \u001b[0m | \u001b[0m0.02232  \u001b[0m | \u001b[0m0.9983   \u001b[0m |\n",
      "| \u001b[95m8        \u001b[0m | \u001b[95m0.9874   \u001b[0m | \u001b[95m7.158    \u001b[0m | \u001b[95m0.001    \u001b[0m | \u001b[95m0.0      \u001b[0m |\n",
      "| \u001b[0m9        \u001b[0m | \u001b[0m0.9695   \u001b[0m | \u001b[0m10.0     \u001b[0m | \u001b[0m0.001    \u001b[0m | \u001b[0m1.0      \u001b[0m |\n",
      "| \u001b[0m10       \u001b[0m | \u001b[0m0.9874   \u001b[0m | \u001b[0m10.0     \u001b[0m | \u001b[0m1.0      \u001b[0m | \u001b[0m0.0      \u001b[0m |\n",
      "| \u001b[0m11       \u001b[0m | \u001b[0m0.9049   \u001b[0m | \u001b[0m9.657    \u001b[0m | \u001b[0m0.9981   \u001b[0m | \u001b[0m0.9851   \u001b[0m |\n",
      "| \u001b[0m12       \u001b[0m | \u001b[0m0.9874   \u001b[0m | \u001b[0m10.0     \u001b[0m | \u001b[0m0.189    \u001b[0m | \u001b[0m0.0      \u001b[0m |\n",
      "| \u001b[0m13       \u001b[0m | \u001b[0m0.9614   \u001b[0m | \u001b[0m5.263    \u001b[0m | \u001b[0m0.001    \u001b[0m | \u001b[0m1.0      \u001b[0m |\n",
      "| \u001b[95m14       \u001b[0m | \u001b[95m0.9883   \u001b[0m | \u001b[95m2.407    \u001b[0m | \u001b[95m0.001    \u001b[0m | \u001b[95m0.0      \u001b[0m |\n",
      "| \u001b[0m15       \u001b[0m | \u001b[0m0.9435   \u001b[0m | \u001b[0m2.308    \u001b[0m | \u001b[0m0.001    \u001b[0m | \u001b[0m0.8304   \u001b[0m |\n",
      "| \u001b[0m16       \u001b[0m | \u001b[0m0.9883   \u001b[0m | \u001b[0m2.338    \u001b[0m | \u001b[0m0.7675   \u001b[0m | \u001b[0m0.0      \u001b[0m |\n",
      "| \u001b[0m17       \u001b[0m | \u001b[0m0.9857   \u001b[0m | \u001b[0m1.773    \u001b[0m | \u001b[0m0.2289   \u001b[0m | \u001b[0m0.0      \u001b[0m |\n",
      "| \u001b[0m18       \u001b[0m | \u001b[0m0.9874   \u001b[0m | \u001b[0m9.317    \u001b[0m | \u001b[0m0.001    \u001b[0m | \u001b[0m0.0      \u001b[0m |\n",
      "| \u001b[0m19       \u001b[0m | \u001b[0m0.9874   \u001b[0m | \u001b[0m4.783    \u001b[0m | \u001b[0m0.001    \u001b[0m | \u001b[0m0.0      \u001b[0m |\n",
      "| \u001b[0m20       \u001b[0m | \u001b[0m0.9874   \u001b[0m | \u001b[0m5.173    \u001b[0m | \u001b[0m0.9824   \u001b[0m | \u001b[0m0.0      \u001b[0m |\n",
      "=============================================================\n"
     ]
    }
   ],
   "source": [
    "def svm_objective(C, gamma, kernel):\n",
    "    svm_model = SVC(C=C, gamma=gamma, kernel='linear' if kernel == 0 else 'rbf', random_state=42)\n",
    "    svm_model.fit(X_train_vectorized, y_train)\n",
    "    svm_pred = svm_model.predict(X_test_vectorized)\n",
    "    return accuracy_score(y_test, svm_pred)\n",
    "\n",
    "svm_search_space = {\n",
    "    'C': (0.01, 10),\n",
    "    'gamma': (0.001, 1),\n",
    "    'kernel': (0, 1)\n",
    "}\n",
    "\n",
    "svm_optimizer = BayesianOptimization(f=svm_objective, pbounds=svm_search_space, random_state=42)\n",
    "svm_optimizer.maximize(init_points=5, n_iter=15)\n",
    "\n",
    "from sklearn.svm import SVC\n",
    "\n",
    "# Get the best parameters from Bayesian optimization\n",
    "best_params = svm_optimizer.max['params']\n",
    "best_C = best_params['C']\n",
    "best_gamma = best_params['gamma']\n",
    "best_kernel = 'linear' if best_params['kernel'] == 0 else 'rbf'\n",
    "\n",
    "# Initialize and fit the SVM model with the best hyperparameters\n",
    "best_svm_model = SVC(C=best_C, gamma=best_gamma, kernel=best_kernel, random_state=42)\n",
    "best_svm_model.fit(X_train_vectorized, y_train)\n",
    "svm_pred_bayes = best_svm_model.predict(X_test_vectorized)"
   ]
  },
  {
   "cell_type": "code",
   "execution_count": 35,
   "id": "aed1cd26",
   "metadata": {},
   "outputs": [
    {
     "name": "stdout",
     "output_type": "stream",
     "text": [
      "|   iter    |  target   |   alpha   |\n",
      "-------------------------------------\n",
      "| \u001b[0m1        \u001b[0m | \u001b[0m0.9848   \u001b[0m | \u001b[0m0.3808   \u001b[0m |\n",
      "| \u001b[0m2        \u001b[0m | \u001b[0m0.9839   \u001b[0m | \u001b[0m0.9512   \u001b[0m |\n",
      "| \u001b[0m3        \u001b[0m | \u001b[0m0.9839   \u001b[0m | \u001b[0m0.7347   \u001b[0m |\n",
      "| \u001b[0m4        \u001b[0m | \u001b[0m0.9839   \u001b[0m | \u001b[0m0.6027   \u001b[0m |\n",
      "| \u001b[0m5        \u001b[0m | \u001b[0m0.9848   \u001b[0m | \u001b[0m0.1645   \u001b[0m |\n",
      "| \u001b[0m6        \u001b[0m | \u001b[0m0.9821   \u001b[0m | \u001b[0m0.01     \u001b[0m |\n",
      "| \u001b[0m7        \u001b[0m | \u001b[0m0.9848   \u001b[0m | \u001b[0m0.1644   \u001b[0m |\n",
      "| \u001b[0m8        \u001b[0m | \u001b[0m0.9848   \u001b[0m | \u001b[0m0.2858   \u001b[0m |\n",
      "| \u001b[0m9        \u001b[0m | \u001b[0m0.9848   \u001b[0m | \u001b[0m0.4748   \u001b[0m |\n",
      "| \u001b[0m10       \u001b[0m | \u001b[0m0.9848   \u001b[0m | \u001b[0m0.2242   \u001b[0m |\n",
      "| \u001b[0m11       \u001b[0m | \u001b[0m0.9839   \u001b[0m | \u001b[0m0.8427   \u001b[0m |\n",
      "| \u001b[0m12       \u001b[0m | \u001b[0m0.9848   \u001b[0m | \u001b[0m0.4304   \u001b[0m |\n",
      "| \u001b[0m13       \u001b[0m | \u001b[0m0.9848   \u001b[0m | \u001b[0m0.3321   \u001b[0m |\n",
      "| \u001b[0m14       \u001b[0m | \u001b[0m0.9848   \u001b[0m | \u001b[0m0.1906   \u001b[0m |\n",
      "| \u001b[0m15       \u001b[0m | \u001b[0m0.9848   \u001b[0m | \u001b[0m0.5137   \u001b[0m |\n",
      "| \u001b[0m16       \u001b[0m | \u001b[0m0.9848   \u001b[0m | \u001b[0m0.2556   \u001b[0m |\n",
      "| \u001b[0m17       \u001b[0m | \u001b[0m0.9848   \u001b[0m | \u001b[0m0.4057   \u001b[0m |\n",
      "| \u001b[0m18       \u001b[0m | \u001b[0m0.9848   \u001b[0m | \u001b[0m0.4966   \u001b[0m |\n",
      "| \u001b[0m19       \u001b[0m | \u001b[0m0.9848   \u001b[0m | \u001b[0m0.3551   \u001b[0m |\n",
      "| \u001b[0m20       \u001b[0m | \u001b[0m0.9848   \u001b[0m | \u001b[0m0.3082   \u001b[0m |\n",
      "=====================================\n"
     ]
    }
   ],
   "source": [
    "def nb_objective(alpha):\n",
    "    nb_model = MultinomialNB(alpha=alpha)\n",
    "    nb_model.fit(X_train_vectorized, y_train)\n",
    "    nb_pred = nb_model.predict(X_test_vectorized)\n",
    "    return accuracy_score(y_test, nb_pred)\n",
    "\n",
    "nb_search_space = {\n",
    "    'alpha': (0.01, 1)\n",
    "}\n",
    "\n",
    "nb_optimizer = BayesianOptimization(f=nb_objective, pbounds=nb_search_space, random_state=42)\n",
    "nb_optimizer.maximize(init_points=5, n_iter=15)\n",
    "\n",
    "best_nb_alpha = nb_optimizer.max['params']['alpha']\n",
    "best_nb_model = MultinomialNB(alpha=best_nb_alpha)\n",
    "best_nb_model.fit(X_train_vectorized, y_train)\n",
    "nb_pred_bayes = best_nb_model.predict(X_test_vectorized)"
   ]
  },
  {
   "cell_type": "code",
   "execution_count": 36,
   "id": "62a08ae9",
   "metadata": {},
   "outputs": [
    {
     "name": "stdout",
     "output_type": "stream",
     "text": [
      "╒══════════════════════════════╤════════════╤═════════════╤══════════╤════════════╤═══════════════╕\n",
      "│ Model                        │ Accuracy   │ Precision   │ Recall   │ F1 Score   │ Specificity   │\n",
      "╞══════════════════════════════╪════════════╪═════════════╪══════════╪════════════╪═══════════════╡\n",
      "│ Support Vector Machine (SVM) │ 98.4753%   │ 99.2537%    │ 89.2617% │ 93.9929%   │ 99.8965%      │\n",
      "├──────────────────────────────┼────────────┼─────────────┼──────────┼────────────┼───────────────┤\n",
      "│ Naive Bayes                  │ 98.3857%   │ 97.1223%    │ 90.6040% │ 93.7500%   │ 99.5859%      │\n",
      "├──────────────────────────────┼────────────┼─────────────┼──────────┼────────────┼───────────────┤\n",
      "│ Bayes Optimized SVM          │ 98.8341%   │ 99.2754%    │ 91.9463% │ 95.4704%   │ 99.8965%      │\n",
      "├──────────────────────────────┼────────────┼─────────────┼──────────┼────────────┼───────────────┤\n",
      "│ Bayes Optimized Naive Bayes  │ 98.4753%   │ 97.1429%    │ 91.2752% │ 93.7500%   │ 99.5859%      │\n",
      "╘══════════════════════════════╧════════════╧═════════════╧══════════╧════════════╧═══════════════╛\n"
     ]
    }
   ],
   "source": [
    "svm_accuracy_bayes = accuracy_score(y_test, svm_pred_bayes)\n",
    "svm_precision_bayes = precision_score(y_test, svm_pred_bayes)\n",
    "svm_recall_bayes = recall_score(y_test, svm_pred_bayes)\n",
    "svm_f1_bayes = f1_score(y_test, svm_pred_bayes)\n",
    "tn, fp, fn, tp = confusion_matrix(y_test, svm_pred_bayes).ravel()\n",
    "svm_bayes_specificity = tn / (tn + fp)\n",
    "# Naive Bayes\n",
    "nb_accuracy_bayes = accuracy_score(y_test, nb_pred_bayes)\n",
    "nb_precision_bayes = precision_score(y_test, nb_pred_bayes)\n",
    "nb_recall_bayes = recall_score(y_test, nb_pred_bayes)\n",
    "nb_f1_bayes = f1_score(y_test, nb_pred_bayes)\n",
    "tn, fp, fn, tp = confusion_matrix(y_test, nb_pred_bayes).ravel()\n",
    "nb_bayes_specificity = tn / (tn + fp)\n",
    "\n",
    "data = [\n",
    "    [\"Support Vector Machine (SVM)\", \"{:.4f}%\".format(svm_accuracy * 100), \"{:.4f}%\".format(\n",
    "        svm_precision * 100), \"{:.4f}%\".format(svm_recall * 100), \"{:.4f}%\".format(svm_f1 * 100), \"{:.4f}%\".format(svm_specificity * 100)],\n",
    "    [\"Naive Bayes\", \"{:.4f}%\".format(nb_accuracy * 100), \"{:.4f}%\".format(\n",
    "        nb_precision * 100), \"{:.4f}%\".format(nb_recall * 100), \"{:.4f}%\".format(nb_f1 * 100), \"{:.4f}%\".format(nb_specificity * 100)],\n",
    "    [\"Bayes Optimized SVM\", \"{:.4f}%\".format(svm_accuracy_bayes * 100), \"{:.4f}%\".format(\n",
    "        svm_precision_bayes * 100), \"{:.4f}%\".format(svm_recall_bayes * 100), \"{:.4f}%\".format(svm_f1_bayes * 100), \"{:.4f}%\".format(svm_bayes_specificity * 100)],\n",
    "    [\"Bayes Optimized Naive Bayes\", \"{:.4f}%\".format(nb_accuracy_bayes * 100), \"{:.4f}%\".format(\n",
    "        nb_precision_bayes * 100), \"{:.4f}%\".format(nb_recall_bayes * 100), \"{:.4f}%\".format(nb_f1 * 100), \"{:.4f}%\".format(nb_bayes_specificity * 100)]\n",
    "]\n",
    "\n",
    "headers = [\"Model\", \"Accuracy\", \"Precision\", \"Recall\", \"F1 Score\", \"Specificity\"]\n",
    "\n",
    "table = tabulate(data, headers, tablefmt=\"fancy_grid\")\n",
    "print(table)"
   ]
  },
  {
   "cell_type": "code",
   "execution_count": 38,
   "id": "024f4f82",
   "metadata": {},
   "outputs": [],
   "source": [
    "svm_param_grid = {\n",
    "    'C': [0.01, 0.1, 1, 10],\n",
    "    'gamma': [0.001, 0.01, 0.1, 1],\n",
    "    'kernel': ['linear', 'rbf']\n",
    "}\n",
    "\n",
    "nb_param_grid = {\n",
    "    'alpha': [0.01, 0.1, 0.5, 1]\n",
    "}\n",
    "\n",
    "svm_grid_search = GridSearchCV(\n",
    "    SVC(random_state=42), svm_param_grid, scoring='f1', cv=5)\n",
    "svm_grid_search.fit(X_train_vectorized, y_train)\n",
    "svm_best_params = svm_grid_search.best_params_\n",
    "svm_best_model = svm_grid_search.best_estimator_\n",
    "svm_best_model.fit(X_train_vectorized, y_train)\n",
    "\n",
    "svm_pred_grid = svm_best_model.predict(X_test_vectorized)\n",
    "\n",
    "# Perform grid search for Naive Bayes\n",
    "nb_grid_search = GridSearchCV(MultinomialNB(), nb_param_grid, scoring='f1', cv=5)\n",
    "nb_grid_search.fit(X_train_vectorized, y_train)\n",
    "nb_best_params = nb_grid_search.best_params_\n",
    "nb_best_model = nb_grid_search.best_estimator_\n",
    "nb_best_model.fit(X_train_vectorized, y_train)\n",
    "\n",
    "nb_pred_grid = nb_best_model.predict(X_test_vectorized)\n"
   ]
  },
  {
   "cell_type": "code",
   "execution_count": 39,
   "id": "d87a17cc",
   "metadata": {},
   "outputs": [
    {
     "name": "stdout",
     "output_type": "stream",
     "text": [
      "╒═══════════════════════════════════╤════════════╤═════════════╤══════════╤════════════╤═══════════════╕\n",
      "│ Model                             │ Accuracy   │ Precision   │ Recall   │ F1 Score   │ Specificity   │\n",
      "╞═══════════════════════════════════╪════════════╪═════════════╪══════════╪════════════╪═══════════════╡\n",
      "│ Support Vector Machine (SVM)      │ 98.4753%   │ 99.2537%    │ 89.2617% │ 93.9929%   │ 99.8965%      │\n",
      "├───────────────────────────────────┼────────────┼─────────────┼──────────┼────────────┼───────────────┤\n",
      "│ Naive Bayes                       │ 98.3857%   │ 97.1223%    │ 90.6040% │ 93.7500%   │ 99.5859%      │\n",
      "├───────────────────────────────────┼────────────┼─────────────┼──────────┼────────────┼───────────────┤\n",
      "│ Bayes Optimized SVM               │ 98.8341%   │ 99.2754%    │ 91.9463% │ 95.4704%   │ 99.8965%      │\n",
      "├───────────────────────────────────┼────────────┼─────────────┼──────────┼────────────┼───────────────┤\n",
      "│ Bayes Optimized Naive Bayes       │ 98.4753%   │ 97.1429%    │ 91.2752% │ 93.7500%   │ 99.5859%      │\n",
      "├───────────────────────────────────┼────────────┼─────────────┼──────────┼────────────┼───────────────┤\n",
      "│ Grid Support Vector Machine (SVM) │ 98.4753%   │ 99.2537%    │ 89.2617% │ 93.9929%   │ 99.8965%      │\n",
      "├───────────────────────────────────┼────────────┼─────────────┼──────────┼────────────┼───────────────┤\n",
      "│ Grid Naive Bayes                  │ 98.3857%   │ 97.1223%    │ 90.6040% │ 93.7500%   │ 99.5859%      │\n",
      "╘═══════════════════════════════════╧════════════╧═════════════╧══════════╧════════════╧═══════════════╛\n"
     ]
    }
   ],
   "source": [
    "svm_accuracy_grid = accuracy_score(y_test, svm_pred_grid)\n",
    "svm_precision_grid = precision_score(y_test, svm_pred_grid)\n",
    "svm_recall_grid = recall_score(y_test, svm_pred_grid)\n",
    "svm_f1_grid = f1_score(y_test, svm_pred_grid)\n",
    "tn, fp, fn, tp = confusion_matrix(y_test, svm_pred_grid).ravel()\n",
    "svm_grid_specificity = tn / (tn + fp)\n",
    "# Calculate accuracy, precision, recall, and F1 score for Naive Bayes\n",
    "nb_accuracy_grid = accuracy_score(y_test, nb_pred_grid)\n",
    "nb_precision_grid = precision_score(y_test, nb_pred_grid)\n",
    "nb_recall_grid = recall_score(y_test, nb_pred_grid)\n",
    "nb_f1_grid = f1_score(y_test, nb_pred_grid)\n",
    "tn, fp, fn, tp = confusion_matrix(y_test, nb_pred_grid).ravel()\n",
    "nb_grid_specificity = tn / (tn + fp)\n",
    "\n",
    "data = [\n",
    "    [\"Support Vector Machine (SVM)\", \"{:.4f}%\".format(svm_accuracy * 100), \"{:.4f}%\".format(\n",
    "        svm_precision * 100), \"{:.4f}%\".format(svm_recall * 100), \"{:.4f}%\".format(svm_f1 * 100), \"{:.4f}%\".format(svm_specificity * 100)],\n",
    "    [\"Naive Bayes\", \"{:.4f}%\".format(nb_accuracy * 100), \"{:.4f}%\".format(\n",
    "        nb_precision * 100), \"{:.4f}%\".format(nb_recall * 100), \"{:.4f}%\".format(nb_f1 * 100), \"{:.4f}%\".format(nb_specificity * 100)],\n",
    "    [\"Bayes Optimized SVM\", \"{:.4f}%\".format(svm_accuracy_bayes * 100), \"{:.4f}%\".format(\n",
    "        svm_precision_bayes * 100), \"{:.4f}%\".format(svm_recall_bayes * 100), \"{:.4f}%\".format(svm_f1_bayes * 100), \"{:.4f}%\".format(svm_bayes_specificity * 100)],\n",
    "    [\"Bayes Optimized Naive Bayes\", \"{:.4f}%\".format(nb_accuracy_bayes * 100), \"{:.4f}%\".format(\n",
    "        nb_precision_bayes * 100), \"{:.4f}%\".format(nb_recall_bayes * 100), \"{:.4f}%\".format(nb_f1 * 100), \"{:.4f}%\".format(nb_bayes_specificity * 100)],\n",
    "    [\"Grid Support Vector Machine (SVM)\", \"{:.4f}%\".format(svm_accuracy_grid * 100), \"{:.4f}%\".format(svm_precision_grid * 100),\n",
    "     \"{:.4f}%\".format(svm_recall_grid * 100), \"{:.4f}%\".format(svm_f1_grid * 100), \"{:.4f}%\".format(svm_grid_specificity * 100)],\n",
    "    [\"Grid Naive Bayes\", \"{:.4f}%\".format(nb_accuracy_grid * 100), \"{:.4f}%\".format(nb_precision_grid * 100),\n",
    "     \"{:.4f}%\".format(nb_recall_grid * 100), \"{:.4f}%\".format(nb_f1_grid * 100), \"{:.4f}%\".format(nb_grid_specificity * 100)]\n",
    "]\n",
    "\n",
    "\n",
    "headers = [\"Model\", \"Accuracy\", \"Precision\", \"Recall\", \"F1 Score\", \"Specificity\"]\n",
    "\n",
    "table = tabulate(data, headers, tablefmt=\"fancy_grid\")\n",
    "print(table)"
   ]
  },
  {
   "cell_type": "code",
   "execution_count": 41,
   "id": "ec490170",
   "metadata": {},
   "outputs": [],
   "source": [
    "from sklearn.linear_model import LogisticRegression\n",
    "from sklearn.naive_bayes import MultinomialNB\n",
    "from sklearn.feature_extraction.text import TfidfVectorizer\n",
    "from sklearn.metrics import accuracy_score, confusion_matrix, roc_curve, roc_auc_score"
   ]
  },
  {
   "cell_type": "code",
   "execution_count": 42,
   "id": "133ea85e",
   "metadata": {},
   "outputs": [],
   "source": [
    "import nltk\n",
    "from nltk.corpus import stopwords\n",
    "from collections import Counter"
   ]
  },
  {
   "cell_type": "code",
   "execution_count": 43,
   "id": "b06f5f9d",
   "metadata": {},
   "outputs": [
    {
     "data": {
      "text/html": [
       "<div>\n",
       "<style scoped>\n",
       "    .dataframe tbody tr th:only-of-type {\n",
       "        vertical-align: middle;\n",
       "    }\n",
       "\n",
       "    .dataframe tbody tr th {\n",
       "        vertical-align: top;\n",
       "    }\n",
       "\n",
       "    .dataframe thead th {\n",
       "        text-align: right;\n",
       "    }\n",
       "</style>\n",
       "<table border=\"1\" class=\"dataframe\">\n",
       "  <thead>\n",
       "    <tr style=\"text-align: right;\">\n",
       "      <th></th>\n",
       "      <th>Category</th>\n",
       "      <th>Message</th>\n",
       "    </tr>\n",
       "  </thead>\n",
       "  <tbody>\n",
       "    <tr>\n",
       "      <th>0</th>\n",
       "      <td>ham</td>\n",
       "      <td>Go until jurong point, crazy.. Available only ...</td>\n",
       "    </tr>\n",
       "    <tr>\n",
       "      <th>1</th>\n",
       "      <td>ham</td>\n",
       "      <td>Ok lar... Joking wif u oni...</td>\n",
       "    </tr>\n",
       "    <tr>\n",
       "      <th>2</th>\n",
       "      <td>spam</td>\n",
       "      <td>Free entry in 2 a wkly comp to win FA Cup fina...</td>\n",
       "    </tr>\n",
       "    <tr>\n",
       "      <th>3</th>\n",
       "      <td>ham</td>\n",
       "      <td>U dun say so early hor... U c already then say...</td>\n",
       "    </tr>\n",
       "    <tr>\n",
       "      <th>4</th>\n",
       "      <td>ham</td>\n",
       "      <td>Nah I don't think he goes to usf, he lives aro...</td>\n",
       "    </tr>\n",
       "  </tbody>\n",
       "</table>\n",
       "</div>"
      ],
      "text/plain": [
       "  Category                                            Message\n",
       "0      ham  Go until jurong point, crazy.. Available only ...\n",
       "1      ham                      Ok lar... Joking wif u oni...\n",
       "2     spam  Free entry in 2 a wkly comp to win FA Cup fina...\n",
       "3      ham  U dun say so early hor... U c already then say...\n",
       "4      ham  Nah I don't think he goes to usf, he lives aro..."
      ]
     },
     "execution_count": 43,
     "metadata": {},
     "output_type": "execute_result"
    }
   ],
   "source": [
    "mail = pd.read_csv('spam.csv')\n",
    "mail.head()"
   ]
  },
  {
   "cell_type": "code",
   "execution_count": 44,
   "id": "84de31ea",
   "metadata": {},
   "outputs": [
    {
     "data": {
      "text/plain": [
       "Category    0\n",
       "Message     0\n",
       "dtype: int64"
      ]
     },
     "execution_count": 44,
     "metadata": {},
     "output_type": "execute_result"
    }
   ],
   "source": [
    "mail.isnull().sum()"
   ]
  },
  {
   "cell_type": "code",
   "execution_count": 45,
   "id": "977ba5c9",
   "metadata": {},
   "outputs": [
    {
     "data": {
      "text/plain": [
       "415"
      ]
     },
     "execution_count": 45,
     "metadata": {},
     "output_type": "execute_result"
    }
   ],
   "source": [
    "mail.duplicated().sum()"
   ]
  },
  {
   "cell_type": "code",
   "execution_count": 46,
   "id": "375c68bb",
   "metadata": {},
   "outputs": [],
   "source": [
    "mail.drop_duplicates( keep = 'first', inplace = True)"
   ]
  },
  {
   "cell_type": "code",
   "execution_count": 47,
   "id": "7c0708cd",
   "metadata": {},
   "outputs": [
    {
     "data": {
      "text/plain": [
       "10314"
      ]
     },
     "execution_count": 47,
     "metadata": {},
     "output_type": "execute_result"
    }
   ],
   "source": [
    "mail.size"
   ]
  },
  {
   "cell_type": "code",
   "execution_count": 48,
   "id": "3e7be7c7",
   "metadata": {},
   "outputs": [],
   "source": [
    "mail.columns = mail.columns.str.strip()\n",
    "mail.columns = mail.columns.str.lower()"
   ]
  },
  {
   "cell_type": "code",
   "execution_count": 49,
   "id": "71c90851",
   "metadata": {},
   "outputs": [
    {
     "data": {
      "text/html": [
       "<div>\n",
       "<style scoped>\n",
       "    .dataframe tbody tr th:only-of-type {\n",
       "        vertical-align: middle;\n",
       "    }\n",
       "\n",
       "    .dataframe tbody tr th {\n",
       "        vertical-align: top;\n",
       "    }\n",
       "\n",
       "    .dataframe thead th {\n",
       "        text-align: right;\n",
       "    }\n",
       "</style>\n",
       "<table border=\"1\" class=\"dataframe\">\n",
       "  <thead>\n",
       "    <tr style=\"text-align: right;\">\n",
       "      <th></th>\n",
       "      <th>count</th>\n",
       "    </tr>\n",
       "    <tr>\n",
       "      <th>category</th>\n",
       "      <th></th>\n",
       "    </tr>\n",
       "  </thead>\n",
       "  <tbody>\n",
       "    <tr>\n",
       "      <th>ham</th>\n",
       "      <td>4516</td>\n",
       "    </tr>\n",
       "    <tr>\n",
       "      <th>spam</th>\n",
       "      <td>641</td>\n",
       "    </tr>\n",
       "  </tbody>\n",
       "</table>\n",
       "</div>"
      ],
      "text/plain": [
       "          count\n",
       "category       \n",
       "ham        4516\n",
       "spam        641"
      ]
     },
     "execution_count": 49,
     "metadata": {},
     "output_type": "execute_result"
    }
   ],
   "source": [
    "mail['category'].value_counts().to_frame()"
   ]
  },
  {
   "cell_type": "code",
   "execution_count": 50,
   "id": "5ae01f40",
   "metadata": {},
   "outputs": [],
   "source": [
    "mail.loc[mail['category'] == 'spam','category'] = 1\n",
    "mail.loc[mail['category'] == 'ham', 'category'] = 0"
   ]
  },
  {
   "cell_type": "code",
   "execution_count": 51,
   "id": "16b17c9c",
   "metadata": {},
   "outputs": [],
   "source": [
    "mail['category'] = mail['category'].astype('int64')"
   ]
  },
  {
   "cell_type": "code",
   "execution_count": 52,
   "id": "cd297575",
   "metadata": {},
   "outputs": [
    {
     "data": {
      "text/html": [
       "<div>\n",
       "<style scoped>\n",
       "    .dataframe tbody tr th:only-of-type {\n",
       "        vertical-align: middle;\n",
       "    }\n",
       "\n",
       "    .dataframe tbody tr th {\n",
       "        vertical-align: top;\n",
       "    }\n",
       "\n",
       "    .dataframe thead th {\n",
       "        text-align: right;\n",
       "    }\n",
       "</style>\n",
       "<table border=\"1\" class=\"dataframe\">\n",
       "  <thead>\n",
       "    <tr style=\"text-align: right;\">\n",
       "      <th></th>\n",
       "      <th>category</th>\n",
       "    </tr>\n",
       "  </thead>\n",
       "  <tbody>\n",
       "    <tr>\n",
       "      <th>count</th>\n",
       "      <td>5157.000000</td>\n",
       "    </tr>\n",
       "    <tr>\n",
       "      <th>mean</th>\n",
       "      <td>0.124297</td>\n",
       "    </tr>\n",
       "    <tr>\n",
       "      <th>std</th>\n",
       "      <td>0.329952</td>\n",
       "    </tr>\n",
       "    <tr>\n",
       "      <th>min</th>\n",
       "      <td>0.000000</td>\n",
       "    </tr>\n",
       "    <tr>\n",
       "      <th>25%</th>\n",
       "      <td>0.000000</td>\n",
       "    </tr>\n",
       "    <tr>\n",
       "      <th>50%</th>\n",
       "      <td>0.000000</td>\n",
       "    </tr>\n",
       "    <tr>\n",
       "      <th>75%</th>\n",
       "      <td>0.000000</td>\n",
       "    </tr>\n",
       "    <tr>\n",
       "      <th>max</th>\n",
       "      <td>1.000000</td>\n",
       "    </tr>\n",
       "  </tbody>\n",
       "</table>\n",
       "</div>"
      ],
      "text/plain": [
       "          category\n",
       "count  5157.000000\n",
       "mean      0.124297\n",
       "std       0.329952\n",
       "min       0.000000\n",
       "25%       0.000000\n",
       "50%       0.000000\n",
       "75%       0.000000\n",
       "max       1.000000"
      ]
     },
     "execution_count": 52,
     "metadata": {},
     "output_type": "execute_result"
    }
   ],
   "source": [
    "mail.describe()"
   ]
  },
  {
   "cell_type": "code",
   "execution_count": 53,
   "id": "81ff56be",
   "metadata": {},
   "outputs": [
    {
     "data": {
      "text/plain": [
       "<Axes: xlabel='category', ylabel='count'>"
      ]
     },
     "execution_count": 53,
     "metadata": {},
     "output_type": "execute_result"
    },
    {
     "data": {
      "image/png": "[encoded data removed]",
      "text/plain": [
       "<Figure size 1500x500 with 1 Axes>"
      ]
     },
     "metadata": {},
     "output_type": "display_data"
    }
   ],
   "source": [
    "plt.figure(figsize= (15,5))\n",
    "sns.countplot(data = mail, x= 'category')"
   ]
  },
  {
   "cell_type": "code",
   "execution_count": 54,
   "id": "2d20b6dc",
   "metadata": {},
   "outputs": [],
   "source": [
    "X = mail['message']\n",
    "y = mail['category']"
   ]
  },
  {
   "cell_type": "code",
   "execution_count": 55,
   "id": "5ba51d42",
   "metadata": {},
   "outputs": [
    {
     "data": {
      "text/html": [
       "<div>\n",
       "<style scoped>\n",
       "    .dataframe tbody tr th:only-of-type {\n",
       "        vertical-align: middle;\n",
       "    }\n",
       "\n",
       "    .dataframe tbody tr th {\n",
       "        vertical-align: top;\n",
       "    }\n",
       "\n",
       "    .dataframe thead th {\n",
       "        text-align: right;\n",
       "    }\n",
       "</style>\n",
       "<table border=\"1\" class=\"dataframe\">\n",
       "  <thead>\n",
       "    <tr style=\"text-align: right;\">\n",
       "      <th></th>\n",
       "      <th>category</th>\n",
       "      <th>message</th>\n",
       "    </tr>\n",
       "  </thead>\n",
       "  <tbody>\n",
       "    <tr>\n",
       "      <th>0</th>\n",
       "      <td>0</td>\n",
       "      <td>Go until jurong point, crazy.. Available only ...</td>\n",
       "    </tr>\n",
       "    <tr>\n",
       "      <th>1</th>\n",
       "      <td>0</td>\n",
       "      <td>Ok lar... Joking wif u oni...</td>\n",
       "    </tr>\n",
       "    <tr>\n",
       "      <th>2</th>\n",
       "      <td>1</td>\n",
       "      <td>Free entry in 2 a wkly comp to win FA Cup fina...</td>\n",
       "    </tr>\n",
       "    <tr>\n",
       "      <th>3</th>\n",
       "      <td>0</td>\n",
       "      <td>U dun say so early hor... U c already then say...</td>\n",
       "    </tr>\n",
       "    <tr>\n",
       "      <th>4</th>\n",
       "      <td>0</td>\n",
       "      <td>Nah I don't think he goes to usf, he lives aro...</td>\n",
       "    </tr>\n",
       "  </tbody>\n",
       "</table>\n",
       "</div>"
      ],
      "text/plain": [
       "   category                                            message\n",
       "0         0  Go until jurong point, crazy.. Available only ...\n",
       "1         0                      Ok lar... Joking wif u oni...\n",
       "2         1  Free entry in 2 a wkly comp to win FA Cup fina...\n",
       "3         0  U dun say so early hor... U c already then say...\n",
       "4         0  Nah I don't think he goes to usf, he lives aro..."
      ]
     },
     "execution_count": 55,
     "metadata": {},
     "output_type": "execute_result"
    }
   ],
   "source": [
    "mail.head()"
   ]
  },
  {
   "cell_type": "code",
   "execution_count": 56,
   "id": "9f33278a",
   "metadata": {},
   "outputs": [],
   "source": [
    "X_train, X_test, y_train, y_test = train_test_split(X, y, test_size = 0.2, random_state = 0)"
   ]
  },
  {
   "cell_type": "code",
   "execution_count": 62,
   "id": "e90c362e",
   "metadata": {},
   "outputs": [
    {
     "name": "stdout",
     "output_type": "stream",
     "text": [
      "(4125,)\n",
      "(1032,)\n"
     ]
    }
   ],
   "source": [
    "print(X_train.shape)\n",
    "print(X_test.shape)"
   ]
  },
  {
   "cell_type": "code",
   "execution_count": 58,
   "id": "60532f69",
   "metadata": {},
   "outputs": [
    {
     "name": "stderr",
     "output_type": "stream",
     "text": [
      "[nltk_data] Downloading package stopwords to /Users/admin/nltk_data...\n",
      "[nltk_data]   Package stopwords is already up-to-date!\n"
     ]
    },
    {
     "data": {
      "text/plain": [
       "True"
      ]
     },
     "execution_count": 58,
     "metadata": {},
     "output_type": "execute_result"
    }
   ],
   "source": [
    "nltk.download('stopwords')"
   ]
  },
  {
   "cell_type": "code",
   "execution_count": 59,
   "id": "7fc0c991",
   "metadata": {},
   "outputs": [],
   "source": [
    "fe = TfidfVectorizer(min_df =1, stop_words = 'english', lowercase = True)\n"
   ]
  },
  {
   "cell_type": "code",
   "execution_count": 60,
   "id": "cacc0723",
   "metadata": {},
   "outputs": [],
   "source": [
    "X_train_fe = fe.fit_transform(X_train)\n",
    "X_test_fe  = fe.transform(X_test)"
   ]
  },
  {
   "cell_type": "code",
   "execution_count": 61,
   "id": "497392f2",
   "metadata": {},
   "outputs": [
    {
     "name": "stdout",
     "output_type": "stream",
     "text": [
      "3734                Old Orchard near univ. How about you?\n",
      "3720    Thanks for your ringtone order, reference numb...\n",
      "681        What is this 'hex' place you talk of? Explain!\n",
      "4165                  Its ok, called mom instead have fun\n",
      "3057                             Webpage s not available!\n",
      "Name: message, dtype: object\n"
     ]
    }
   ],
   "source": [
    "print(X_train.head())"
   ]
  },
  {
   "cell_type": "code",
   "execution_count": 63,
   "id": "85120c95",
   "metadata": {},
   "outputs": [
    {
     "name": "stdout",
     "output_type": "stream",
     "text": [
      "  (0, 6818)\t0.5739788188946062\n",
      "  (0, 4485)\t0.4906764134643631\n",
      "  (0, 4728)\t0.4817972507769212\n",
      "  (0, 4681)\t0.44458562940552054\n",
      "  (1, 6760)\t0.2835428015076369\n",
      "  (1, 6471)\t0.14542627512844372\n",
      "  (1, 5367)\t0.24745538040851425\n",
      "  (1, 1813)\t0.4392463649249198\n",
      "  (1, 214)\t0.27022400810961306\n",
      "  (1, 5742)\t0.2196231824624599\n",
      "  (1, 2030)\t0.18952469382234666\n",
      "  (1, 1020)\t0.23800554610543917\n",
      "  (1, 6624)\t0.20630438906443613\n",
      "  (1, 517)\t0.18432732222631074\n",
      "  (1, 1641)\t0.2275449186265733\n",
      "  (1, 4318)\t0.15707243591111456\n",
      "  (1, 7269)\t0.27022400810961306\n",
      "  (1, 4614)\t0.16583070390719393\n",
      "  (1, 5372)\t0.24239181016355874\n",
      "  (1, 4729)\t0.20959194915388416\n",
      "  (1, 5509)\t0.21324550953423102\n",
      "  (1, 6487)\t0.16969966300214262\n",
      "  (2, 2584)\t0.5479285984863098\n",
      "  (2, 6384)\t0.40973892327544986\n",
      "  (2, 4956)\t0.3951202480371458\n",
      "  :\t:\n",
      "  (4121, 1468)\t0.17565732524995498\n",
      "  (4121, 254)\t0.19582685756101897\n",
      "  (4121, 6289)\t0.15915727832638799\n",
      "  (4121, 5624)\t0.14535496815743226\n",
      "  (4121, 3898)\t0.1410148881186621\n",
      "  (4121, 247)\t0.14023434160506634\n",
      "  (4121, 2849)\t0.33433368750531045\n",
      "  (4121, 4389)\t0.16716684375265523\n",
      "  (4121, 2138)\t0.2907099363148645\n",
      "  (4121, 1728)\t0.17565732524995498\n",
      "  (4121, 3634)\t0.1889787193478782\n",
      "  (4121, 7296)\t0.1889787193478782\n",
      "  (4122, 3029)\t0.5691488271888182\n",
      "  (4122, 5186)\t0.5691488271888182\n",
      "  (4122, 3183)\t0.43130211350071335\n",
      "  (4122, 2223)\t0.407575406408438\n",
      "  (4123, 1099)\t0.5750474583587692\n",
      "  (4123, 4096)\t0.5480358810899566\n",
      "  (4123, 4207)\t0.40165953387583664\n",
      "  (4123, 5014)\t0.4556826884134619\n",
      "  (4124, 1606)\t0.46191680930477547\n",
      "  (4124, 3730)\t0.4402192930303622\n",
      "  (4124, 6535)\t0.3473961773632615\n",
      "  (4124, 2864)\t0.6493190953439835\n",
      "  (4124, 1821)\t0.22481201858576816\n"
     ]
    }
   ],
   "source": [
    "print(X_train_fe)"
   ]
  },
  {
   "cell_type": "code",
   "execution_count": 64,
   "id": "4e7a8e98",
   "metadata": {},
   "outputs": [
    {
     "data": {
      "text/html": [
       "<style>#sk-container-id-1 {color: black;}#sk-container-id-1 pre{padding: 0;}#sk-container-id-1 div.sk-toggleable {background-color: white;}#sk-container-id-1 label.sk-toggleable__label {cursor: pointer;display: block;width: 100%;margin-bottom: 0;padding: 0.3em;box-sizing: border-box;text-align: center;}#sk-container-id-1 label.sk-toggleable__label-arrow:before {content: \"▸\";float: left;margin-right: 0.25em;color: #696969;}#sk-container-id-1 label.sk-toggleable__label-arrow:hover:before {color: black;}#sk-container-id-1 div.sk-estimator:hover label.sk-toggleable__label-arrow:before {color: black;}#sk-container-id-1 div.sk-toggleable__content {max-height: 0;max-width: 0;overflow: hidden;text-align: left;background-color: #f0f8ff;}#sk-container-id-1 div.sk-toggleable__content pre {margin: 0.2em;color: black;border-radius: 0.25em;background-color: #f0f8ff;}#sk-container-id-1 input.sk-toggleable__control:checked~div.sk-toggleable__content {max-height: 200px;max-width: 100%;overflow: auto;}#sk-container-id-1 input.sk-toggleable__control:checked~label.sk-toggleable__label-arrow:before {content: \"▾\";}#sk-container-id-1 div.sk-estimator input.sk-toggleable__control:checked~label.sk-toggleable__label {background-color: #d4ebff;}#sk-container-id-1 div.sk-label input.sk-toggleable__control:checked~label.sk-toggleable__label {background-color: #d4ebff;}#sk-container-id-1 input.sk-hidden--visually {border: 0;clip: rect(1px 1px 1px 1px);clip: rect(1px, 1px, 1px, 1px);height: 1px;margin: -1px;overflow: hidden;padding: 0;position: absolute;width: 1px;}#sk-container-id-1 div.sk-estimator {font-family: monospace;background-color: #f0f8ff;border: 1px dotted black;border-radius: 0.25em;box-sizing: border-box;margin-bottom: 0.5em;}#sk-container-id-1 div.sk-estimator:hover {background-color: #d4ebff;}#sk-container-id-1 div.sk-parallel-item::after {content: \"\";width: 100%;border-bottom: 1px solid gray;flex-grow: 1;}#sk-container-id-1 div.sk-label:hover label.sk-toggleable__label {background-color: #d4ebff;}#sk-container-id-1 div.sk-serial::before {content: \"\";position: absolute;border-left: 1px solid gray;box-sizing: border-box;top: 0;bottom: 0;left: 50%;z-index: 0;}#sk-container-id-1 div.sk-serial {display: flex;flex-direction: column;align-items: center;background-color: white;padding-right: 0.2em;padding-left: 0.2em;position: relative;}#sk-container-id-1 div.sk-item {position: relative;z-index: 1;}#sk-container-id-1 div.sk-parallel {display: flex;align-items: stretch;justify-content: center;background-color: white;position: relative;}#sk-container-id-1 div.sk-item::before, #sk-container-id-1 div.sk-parallel-item::before {content: \"\";position: absolute;border-left: 1px solid gray;box-sizing: border-box;top: 0;bottom: 0;left: 50%;z-index: -1;}#sk-container-id-1 div.sk-parallel-item {display: flex;flex-direction: column;z-index: 1;position: relative;background-color: white;}#sk-container-id-1 div.sk-parallel-item:first-child::after {align-self: flex-end;width: 50%;}#sk-container-id-1 div.sk-parallel-item:last-child::after {align-self: flex-start;width: 50%;}#sk-container-id-1 div.sk-parallel-item:only-child::after {width: 0;}#sk-container-id-1 div.sk-dashed-wrapped {border: 1px dashed gray;margin: 0 0.4em 0.5em 0.4em;box-sizing: border-box;padding-bottom: 0.4em;background-color: white;}#sk-container-id-1 div.sk-label label {font-family: monospace;font-weight: bold;display: inline-block;line-height: 1.2em;}#sk-container-id-1 div.sk-label-container {text-align: center;}#sk-container-id-1 div.sk-container {/* jupyter's `normalize.less` sets `[hidden] { display: none; }` but bootstrap.min.css set `[hidden] { display: none !important; }` so we also need the `!important` here to be able to override the default hidden behavior on the sphinx rendered scikit-learn.org. See: https://github.com/scikit-learn/scikit-learn/issues/21755 */display: inline-block !important;position: relative;}#sk-container-id-1 div.sk-text-repr-fallback {display: none;}</style><div id=\"sk-container-id-1\" class=\"sk-top-container\"><div class=\"sk-text-repr-fallback\"><pre>MultinomialNB()</pre><b>In a Jupyter environment, please rerun this cell to show the HTML representation or trust the notebook. <br />On GitHub, the HTML representation is unable to render, please try loading this page with nbviewer.org.</b></div><div class=\"sk-container\" hidden><div class=\"sk-item\"><div class=\"sk-estimator sk-toggleable\"><input class=\"sk-toggleable__control sk-hidden--visually\" id=\"sk-estimator-id-1\" type=\"checkbox\" checked><label for=\"sk-estimator-id-1\" class=\"sk-toggleable__label sk-toggleable__label-arrow\">MultinomialNB</label><div class=\"sk-toggleable__content\"><pre>MultinomialNB()</pre></div></div></div></div></div>"
      ],
      "text/plain": [
       "MultinomialNB()"
      ]
     },
     "execution_count": 64,
     "metadata": {},
     "output_type": "execute_result"
    }
   ],
   "source": [
    "modelNB = MultinomialNB()\n",
    "modelNB.fit(X_train_fe, y_train)"
   ]
  },
  {
   "cell_type": "code",
   "execution_count": 65,
   "id": "f8887fc0",
   "metadata": {},
   "outputs": [],
   "source": [
    "pre_model_train = modelNB.predict(X_train_fe)\n",
    "pre_model_test = modelNB.predict(X_test_fe)"
   ]
  },
  {
   "cell_type": "code",
   "execution_count": 66,
   "id": "86ab7ee1",
   "metadata": {},
   "outputs": [],
   "source": [
    "from sklearn.metrics import mean_absolute_error"
   ]
  },
  {
   "cell_type": "code",
   "execution_count": 67,
   "id": "94565ec6",
   "metadata": {},
   "outputs": [
    {
     "data": {
      "text/plain": [
       "array([[0., 0., 0., ..., 0., 0., 0.],\n",
       "       [0., 0., 0., ..., 0., 0., 0.],\n",
       "       [0., 0., 0., ..., 0., 0., 0.],\n",
       "       ...,\n",
       "       [0., 0., 0., ..., 0., 0., 0.],\n",
       "       [0., 0., 0., ..., 0., 0., 0.],\n",
       "       [0., 0., 0., ..., 0., 0., 0.]])"
      ]
     },
     "execution_count": 67,
     "metadata": {},
     "output_type": "execute_result"
    }
   ],
   "source": [
    "X_test_fe.toarray()"
   ]
  },
  {
   "cell_type": "code",
   "execution_count": 68,
   "id": "b9fa1169",
   "metadata": {},
   "outputs": [
    {
     "data": {
      "text/plain": [
       "0.9779393939393939"
      ]
     },
     "execution_count": 68,
     "metadata": {},
     "output_type": "execute_result"
    }
   ],
   "source": [
    "acc_score = accuracy_score(y_train, pre_model_train)\n",
    "acc_score"
   ]
  },
  {
   "cell_type": "code",
   "execution_count": 69,
   "id": "81ab31ce",
   "metadata": {},
   "outputs": [
    {
     "data": {
      "text/plain": [
       "0.9622093023255814"
      ]
     },
     "execution_count": 69,
     "metadata": {},
     "output_type": "execute_result"
    }
   ],
   "source": [
    "acc_score2 = accuracy_score(y_test, pre_model_test)\n",
    "acc_score2"
   ]
  },
  {
   "cell_type": "code",
   "execution_count": 70,
   "id": "91674ba0",
   "metadata": {},
   "outputs": [
    {
     "data": {
      "text/plain": [
       "count                                      4125\n",
       "unique                                     4125\n",
       "top       Old Orchard near univ. How about you?\n",
       "freq                                          1\n",
       "Name: message, dtype: object"
      ]
     },
     "execution_count": 70,
     "metadata": {},
     "output_type": "execute_result"
    }
   ],
   "source": [
    "X_train.describe()"
   ]
  },
  {
   "cell_type": "code",
   "execution_count": 71,
   "id": "047d6c1d",
   "metadata": {},
   "outputs": [
    {
     "data": {
      "image/png": "[encoded data removed]",
      "text/plain": [
       "<Figure size 600x400 with 1 Axes>"
      ]
     },
     "metadata": {},
     "output_type": "display_data"
    }
   ],
   "source": [
    "conf_matrix=confusion_matrix(y_test,pre_model_test)\n",
    "plt.figure(figsize=(6,4))\n",
    "sns.heatmap(conf_matrix,annot=True,fmt=\"d\",cmap=\"Oranges\",cbar=False)\n",
    "plt.xlabel(\"Predicted value\")\n",
    "plt.ylabel(\"Actual value\")\n",
    "plt.title(\"Confusion Matrix\")\n",
    "plt.show()"
   ]
  },
  {
   "cell_type": "code",
   "execution_count": 72,
   "id": "02762a27",
   "metadata": {},
   "outputs": [
    {
     "name": "stdout",
     "output_type": "stream",
     "text": [
      "[1 0 1 0]\n",
      "This is a Spam mail.\n",
      "Yeah! it's a Ham\n",
      "This is a Spam mail.\n",
      "Yeah! it's a Ham\n"
     ]
    }
   ],
   "source": [
    "ex = [\"Hurry up!!Free entry in 2 a wkly comp to win FA Cup fina...\",\"I'm always looking for an excuse to be in the ...\",\"URGENT! Your mobile was awarded a £1,500 Bonus...\",\"Want explicit SEX in 30 secs? Ring 02073162414...\"]\n",
    "new_ex = fe.transform(ex)\n",
    "pre_new_ex = modelNB.predict(new_ex)\n",
    "print(pre_new_ex)\n",
    "\n",
    "for i in range(len(ex)):\n",
    "    if(pre_new_ex[i] == 1):\n",
    "        print(\"This is a Spam mail.\")\n",
    "        \n",
    "    else:\n",
    "        print(\"Yeah! it's a Ham\")"
   ]
  },
  {
   "cell_type": "code",
   "execution_count": 73,
   "id": "763760ff",
   "metadata": {},
   "outputs": [
    {
     "data": {
      "text/plain": [
       "2807                                           Can a not?\n",
       "1551    He says hi and to get your ass back to south t...\n",
       "3261    I'm always looking for an excuse to be in the ...\n",
       "1618                        Did u download the fring app?\n",
       "2457                            Onum ela pa. Normal than.\n",
       "3692    Sir, i am waiting for your call, once free ple...\n",
       "1755    How is your schedule next week? I am out of to...\n",
       "3812          Excellent! Wish we were together right now!\n",
       "5114              Argh why the fuck is nobody in town ;_;\n",
       "4752    Your weekly Cool-Mob tones are ready to downlo...\n",
       "4306                Yo come over carlos will be here soon\n",
       "4347             You still around? I could use a half-8th\n",
       "3034                          Aight, lemme know what's up\n",
       "548                      Sorry that took so long, omw now\n",
       "2954    URGENT! Your mobile was awarded a £1,500 Bonus...\n",
       "624     sorry, no, have got few things to do. may be i...\n",
       "220     Yeah you should. I think you can use your gt a...\n",
       "2665                        He remains a bro amongst bros\n",
       "4614                        How much you got for cleaning\n",
       "2156                       What year. And how many miles.\n",
       "1311    I.ll always be there, even if its just in spir...\n",
       "553     Sure, if I get an acknowledgement from you tha...\n",
       "4475    Want explicit SEX in 30 secs? Ring 02073162414...\n",
       "3439                            Its good to hear from you\n",
       "2743    No * am working on the ringing u thing but hav...\n",
       "1948    The battery is for mr adewale my uncle. Aka Egbon\n",
       "5275                        Oh yeah clearly it's my fault\n",
       "2404    Jesus christ bitch I'm trying to give you drug...\n",
       "3853         No, its true..k,Do u knw dis no. &lt;#&gt; ?\n",
       "3369             Hey elaine, is today's meeting still on?\n",
       "Name: message, dtype: object"
      ]
     },
     "execution_count": 73,
     "metadata": {},
     "output_type": "execute_result"
    }
   ],
   "source": [
    "X_test.tail(30)"
   ]
  },
  {
   "cell_type": "code",
   "execution_count": null,
   "id": "013bf636",
   "metadata": {},
   "outputs": [],
   "source": []
  }
 ],
 "metadata": {
  "kernelspec": {
   "display_name": "Python 3 (ipykernel)",
   "language": "python",
   "name": "python3"
  },
  "language_info": {
   "codemirror_mode": {
    "name": "ipython",
    "version": 3
   },
   "file_extension": ".py",
   "mimetype": "text/x-python",
   "name": "python",
   "nbconvert_exporter": "python",
   "pygments_lexer": "ipython3",
   "version": "3.11.5"
  }
 },
 "nbformat": 4,
 "nbformat_minor": 5
}
